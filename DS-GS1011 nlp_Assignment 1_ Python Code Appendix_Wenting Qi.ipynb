{
 "cells": [
  {
   "cell_type": "markdown",
   "metadata": {},
   "source": [
    "# DS-GS1011 nlp_Assignment 1_ Python Code Appendix\n",
    "\n",
    "__Student Name:__ Wenting Qi\n",
    "\n",
    "__Net ID:__ wq244"
   ]
  },
  {
   "cell_type": "code",
   "execution_count": 27,
   "metadata": {},
   "outputs": [],
   "source": [
    "import os\n",
    "import random\n",
    "import spacy\n",
    "import string\n",
    "import torch\n",
    "import time\n",
    "import matplotlib.pyplot as plt\n",
    "import matplotlib.patches as mpatches\n",
    "import pandas as pd\n",
    "import numpy as np\n",
    "import pickle as pkl\n",
    "import torch.nn as nn\n",
    "import torch.nn.functional as F\n",
    "from torch.utils.data import Dataset\n",
    "from collections import Counter\n",
    "from nltk.corpus import stopwords\n",
    "from nltk.stem import PorterStemmer\n"
   ]
  },
  {
   "cell_type": "markdown",
   "metadata": {},
   "source": []
  },
  {
   "cell_type": "markdown",
   "metadata": {},
   "source": [
    "## Section 1 Bag of Mono-gram Model\n",
    "### Baseline Model"
   ]
  },
  {
   "cell_type": "code",
   "execution_count": 3,
   "metadata": {},
   "outputs": [
    {
     "name": "stdout",
     "output_type": "stream",
     "text": [
      "/Users/NicoleQi/Desktop/NYU/DS1011/Assignment/1\n",
      "/Users/NicoleQi/Desktop/NYU/DS1011/Assignment/1/aclImdb\n"
     ]
    }
   ],
   "source": [
    "# get directory of the data\n",
    "os.chdir(\"/Users/NicoleQi/Desktop/NYU/DS1011/Assignment/1\")\n",
    "cwd = os.getcwd()\n",
    "print(cwd)\n",
    "datadir = cwd+'/aclImdb'\n",
    "print(datadir)"
   ]
  },
  {
   "cell_type": "code",
   "execution_count": 217,
   "metadata": {},
   "outputs": [],
   "source": [
    "# Load negative training data and score targets\n",
    "aclImdb_train_data_neg = []\n",
    "aclImdb_train_scoretarget_neg = []\n",
    "\n",
    "os.chdir(datadir+'/train/neg')\n",
    "for file in os.listdir():\n",
    "    text_file = open(file,'r')\n",
    "    aclImdb_train_data_neg.append(text_file.read())    \n",
    "    aclImdb_train_scoretarget_neg.append(int(file[:-4].split('_')[-1]))\n",
    "    text_file.close()\n",
    "\n",
    "    \n",
    "\n",
    "# Load positive training data and score targets\n",
    "aclImdb_train_data_pos = []\n",
    "aclImdb_train_scoretarget_pos = []\n",
    "\n",
    "os.chdir(datadir+'/train/pos')\n",
    "for file in os.listdir():\n",
    "    text_file = open(file,'r')\n",
    "    aclImdb_train_data_pos.append(text_file.read())    \n",
    "    aclImdb_train_scoretarget_pos.append(int(file[:-4].split('_')[-1]))\n",
    "    text_file.close()\n",
    "\n",
    "\n",
    "# Load negative testing data and score targets\n",
    "aclImdb_test_data_neg = []\n",
    "aclImdb_test_scoretarget_neg = []\n",
    "\n",
    "os.chdir(datadir+'/test/neg')\n",
    "for file in os.listdir():\n",
    "    text_file = open(file,'r')\n",
    "    aclImdb_test_data_neg.append(text_file.read())    \n",
    "    aclImdb_test_scoretarget_neg.append(int(file[:-4].split('_')[-1]))\n",
    "    text_file.close()\n",
    "\n",
    "# Load positive testing data and score targets\n",
    "\n",
    "aclImdb_test_data_pos = []\n",
    "aclImdb_test_scoretarget_pos = []\n",
    "\n",
    "os.chdir(datadir+'/test/pos')\n",
    "for file in os.listdir():\n",
    "    text_file = open(file,'r')\n",
    "    aclImdb_test_data_pos.append(text_file.read())    \n",
    "    aclImdb_test_scoretarget_pos.append(int(file[:-4].split('_')[-1]))\n",
    "    text_file.close()\n"
   ]
  },
  {
   "cell_type": "code",
   "execution_count": 218,
   "metadata": {},
   "outputs": [],
   "source": [
    "# Split train data into training set and validation set\n",
    "# Union the positive and negative data \n",
    "\n",
    "train_split = int(len(aclImdb_train_data_neg)*0.8)\n",
    "\n",
    "train_data = aclImdb_train_data_neg[:train_split] + aclImdb_train_data_pos[:train_split]\n",
    "train_target = [0]*train_split + [1]*train_split\n",
    "train_scoretarget = aclImdb_train_scoretarget_neg[:train_split] + aclImdb_train_scoretarget_pos[:train_split]\n",
    "\n",
    "val_data = aclImdb_train_data_neg[train_split:] + aclImdb_train_data_pos[train_split:]\n",
    "val_target = [0]*len(aclImdb_train_data_neg[train_split:]) + [1]*len(aclImdb_train_data_pos[train_split:])\n",
    "val_scoretarget = aclImdb_train_scoretarget_neg[train_split:] + aclImdb_train_scoretarget_pos[train_split:]\n",
    "\n",
    "test_data = aclImdb_test_data_neg + aclImdb_test_data_pos\n",
    "test_target = [0]*len(aclImdb_test_data_neg) + [1]*len(aclImdb_test_data_pos)\n",
    "test_scoretarget = aclImdb_test_scoretarget_neg + aclImdb_test_scoretarget_pos\n"
   ]
  },
  {
   "cell_type": "code",
   "execution_count": 6,
   "metadata": {},
   "outputs": [],
   "source": [
    "# Define tokenize function\n",
    "\n",
    "tokenizer = spacy.load('en_core_web_sm')\n",
    "puncs = string.punctuation\n",
    "Stopwords = set(stopwords.words('english'))\n",
    "ps = PorterStemmer()\n",
    "\n",
    "def tokenize(s):\n",
    "    token = tokenizer(s)\n",
    "    tokenized = []\n",
    "    for i in token:\n",
    "        if i.text not in puncs:\n",
    "            tokenized.append(i.text.lower())\n",
    "    return tokenized\n",
    "\n",
    "# Normal BOW tokenize function\n",
    "def BOW_tokenize(data):\n",
    "    token_dataset = []\n",
    "    BOW_tokens = []\n",
    "    for i in data:\n",
    "        tokens = tokenize(i)\n",
    "        token_dataset.append(tokens)\n",
    "        BOW_tokens += tokens\n",
    "    return token_dataset,BOW_tokens\n",
    "\n"
   ]
  },
  {
   "cell_type": "code",
   "execution_count": null,
   "metadata": {},
   "outputs": [],
   "source": [
    "# Tokenize the train/validation/test set using Bag of Words when N=1\n",
    "mono_train_data_tokens, BOW_tokens = BOW_tokenize(train_data)\n",
    "mono_val_data_tokens, _ = BOW_tokenize(val_data)\n",
    "mono_test_data_tokens, _ = BOW_tokenize(test_data)\n"
   ]
  },
  {
   "cell_type": "code",
   "execution_count": 136,
   "metadata": {},
   "outputs": [],
   "source": [
    "'''\n",
    "# Save tokenized dataset\n",
    "os.chdir(datadir)\n",
    "pkl.dump(mono_train_data_tokens, open(\"mono_train_data_tokens.p\", \"wb\"))\n",
    "pkl.dump(BOW_tokens, open(\"BOW_tokens.p\", \"wb\"))\n",
    "pkl.dump(mono_val_data_tokens, open(\"mono_val_data_tokens.p\", \"wb\"))\n",
    "pkl.dump(mono_test_data_tokens, open(\"mono_test_data_tokens.p\", \"wb\"))"
   ]
  },
  {
   "cell_type": "code",
   "execution_count": 7,
   "metadata": {},
   "outputs": [],
   "source": [
    "'''\n",
    "# Load tokenized dataset from local\n",
    "os.chdir(datadir)\n",
    "mono_train_data_tokens = pkl.load(open(\"mono_train_data_tokens.p\", \"rb\"))\n",
    "BOW_tokens = pkl.load(open(\"BOW_tokens.p\", \"rb\"))\n",
    "\n",
    "mono_val_data_tokens = pkl.load(open(\"mono_val_data_tokens.p\", \"rb\"))\n",
    "mono_test_data_tokens = pkl.load(open(\"mono_test_data_tokens.p\", \"rb\"))"
   ]
  },
  {
   "cell_type": "code",
   "execution_count": 9,
   "metadata": {},
   "outputs": [],
   "source": [
    "# Build Vocabulary\n",
    "max_vocab_size_1 = 10000\n",
    "pad_idx = 0\n",
    "unk_idx = 1\n",
    "\n",
    "def build_vocab(tokens, max_vocab_size):\n",
    "    token_counter = Counter(tokens)\n",
    "    vocab, count = zip(*token_counter.most_common(max_vocab_size))\n",
    "    vocab = ['<pad>','<unk>'] + list(vocab)\n",
    "    token2id = {}\n",
    "    for i,t in enumerate(vocab):\n",
    "        token2id[t] = i\n",
    "    return token2id, vocab\n",
    "\n",
    "BOW_token2id, BOW_vocab= build_vocab(BOW_tokens, max_vocab_size_1)"
   ]
  },
  {
   "cell_type": "code",
   "execution_count": 10,
   "metadata": {},
   "outputs": [],
   "source": [
    "# convert token to id in the dataset\n",
    "def indices_dataset(tokens_data, token_dic):\n",
    "    indices_data = []\n",
    "    for token in tokens_data:\n",
    "        index_list = [token_dic[t] if t in token_dic else unk_idx for t in token]\n",
    "        indices_data.append(index_list)\n",
    "    return indices_data\n",
    "\n",
    "mono_train_data_indices = indices_dataset(mono_train_data_tokens, BOW_token2id)\n",
    "mono_val_data_indices = indices_dataset(mono_val_data_tokens, BOW_token2id)\n",
    "mono_test_data_indices = indices_dataset(mono_test_data_tokens, BOW_token2id)"
   ]
  },
  {
   "cell_type": "code",
   "execution_count": 12,
   "metadata": {},
   "outputs": [],
   "source": [
    "# Build dataset and pad all input to same length\n",
    "max_sentence_length = 200\n",
    "\n",
    "class aclImdbDataset(Dataset):\n",
    "    def __init__(self, data_list, target_list):\n",
    "        self.data_list = data_list\n",
    "        self.target_list = target_list\n",
    "        assert (len(self.data_list) == len(self.target_list))\n",
    "    \n",
    "    def __len__(self):\n",
    "        return len(self.data_list)\n",
    "    \n",
    "    def __getitem__(self, key):\n",
    "        token_index = self.data_list[key][:max_sentence_length]\n",
    "        label = self.target_list[key]\n",
    "        return [token_index, len(token_index), label]\n"
   ]
  },
  {
   "cell_type": "code",
   "execution_count": 13,
   "metadata": {},
   "outputs": [],
   "source": [
    "def collate_func(batch):\n",
    "    data_list = []\n",
    "    length_list = []\n",
    "    target_list = []\n",
    "    \n",
    "    for datum in batch:\n",
    "        length_list.append(datum[1])\n",
    "        target_list.append(datum[2])\n",
    "    \n",
    "    for datum in batch:\n",
    "        padding_data = np.pad(np.array(datum[0]),pad_width=((0,max_sentence_length-datum[1])), mode='constant',constant_values=pad_idx)\n",
    "        data_list.append(padding_data)\n",
    "    return [torch.from_numpy(np.array(data_list)),torch.LongTensor(length_list), torch.LongTensor(target_list)]"
   ]
  },
  {
   "cell_type": "code",
   "execution_count": 14,
   "metadata": {},
   "outputs": [],
   "source": [
    "BATCH_SIZE = 64\n",
    "mono_train_dataset = aclImdbDataset(mono_train_data_indices, train_target)\n",
    "mono_train_loader = torch.utils.data.DataLoader(dataset=mono_train_dataset, batch_size=BATCH_SIZE, collate_fn=collate_func,shuffle=True)\n",
    "\n",
    "mono_val_dataset = aclImdbDataset(mono_val_data_indices, val_target)\n",
    "mono_val_loader = torch.utils.data.DataLoader(dataset=mono_val_dataset, batch_size=BATCH_SIZE, collate_fn=collate_func,shuffle=True)\n",
    "\n",
    "mono_test_dataset = aclImdbDataset(mono_test_data_indices, test_target)\n",
    "mono_test_loader = torch.utils.data.DataLoader(dataset=mono_test_dataset, batch_size=BATCH_SIZE, collate_fn=collate_func,shuffle=True)"
   ]
  },
  {
   "cell_type": "code",
   "execution_count": 15,
   "metadata": {},
   "outputs": [],
   "source": [
    "# Build Bag of NGram baseline Model\n",
    "class BagOfNGram(nn.Module):\n",
    "    def __init__(self, vocab_size, embedding_dim):\n",
    "        super(BagOfNGram, self).__init__()\n",
    "        self.embeddings = nn.Embedding(vocab_size, embedding_dim)\n",
    "        self.linear = nn.Linear(embedding_dim,128)\n",
    "    \n",
    "    def forward(self, data, length):\n",
    "        out = self.embeddings(data)\n",
    "        out = torch.sum(out, dim=1)\n",
    "        out /= length.view(length.size()[0],1).expand_as(out).float()\n",
    "        out = self.linear(out.float())\n",
    "        return out\n",
    "\n",
    "        "
   ]
  },
  {
   "cell_type": "code",
   "execution_count": 16,
   "metadata": {},
   "outputs": [],
   "source": [
    "def test_model(loader, model):\n",
    "    correct = 0\n",
    "    total = 0\n",
    "    model.eval()\n",
    "    for data, lengths, labels in loader:\n",
    "        data_batch, length_batch, label_batch = data, lengths, labels\n",
    "        outputs = F.softmax(model(data_batch, length_batch), dim=1)\n",
    "        predicted = outputs.max(1, keepdim=True)[1]\n",
    "        correct += predicted.eq(labels.view_as(predicted)).sum().item()\n",
    "        total += data.size(0)\n",
    "    return (100*correct/total)"
   ]
  },
  {
   "cell_type": "markdown",
   "metadata": {},
   "source": [
    "### Model I"
   ]
  },
  {
   "cell_type": "code",
   "execution_count": 17,
   "metadata": {},
   "outputs": [
    {
     "name": "stdout",
     "output_type": "stream",
     "text": [
      "Epoch: [1/5], Step: [101/313], Validation Acc: 53.68\n",
      "Epoch: [1/5], Step: [201/313], Validation Acc: 55.42\n",
      "Epoch: [1/5], Step: [301/313], Validation Acc: 57.82\n",
      "Epoch: [2/5], Step: [101/313], Validation Acc: 58.98\n",
      "Epoch: [2/5], Step: [201/313], Validation Acc: 56.28\n",
      "Epoch: [2/5], Step: [301/313], Validation Acc: 60.1\n",
      "Epoch: [3/5], Step: [101/313], Validation Acc: 58.04\n",
      "Epoch: [3/5], Step: [201/313], Validation Acc: 60.72\n",
      "Epoch: [3/5], Step: [301/313], Validation Acc: 62.22\n",
      "Epoch: [4/5], Step: [101/313], Validation Acc: 60.3\n",
      "Epoch: [4/5], Step: [201/313], Validation Acc: 61.94\n",
      "Epoch: [4/5], Step: [301/313], Validation Acc: 61.76\n",
      "Epoch: [5/5], Step: [101/313], Validation Acc: 62.72\n",
      "Epoch: [5/5], Step: [201/313], Validation Acc: 61.22\n",
      "Epoch: [5/5], Step: [301/313], Validation Acc: 61.38\n",
      "Time elapse: 70.80317902565002\n"
     ]
    }
   ],
   "source": [
    "t0 = time.time()\n",
    "val_acc_epochs_SGD_1 = []\n",
    "\n",
    "emb_dim = 100\n",
    "model = BagOfNGram(len(BOW_token2id),emb_dim)\n",
    "learning_rate = 0.01\n",
    "num_epochs = 5\n",
    "criterion = torch.nn.CrossEntropyLoss()\n",
    "optimizer = torch.optim.SGD(model.parameters(), lr=learning_rate)\n",
    "\n",
    "\n",
    "for epoch in range(num_epochs):\n",
    "    for i, (data, lengths, labels) in enumerate(mono_train_loader):\n",
    "        model.train()\n",
    "        data_batch, length_batch, label_batch = data, lengths, labels\n",
    "        optimizer.zero_grad()\n",
    "        outputs = model(data_batch, length_batch)\n",
    "        loss = criterion(outputs, label_batch)\n",
    "        loss.backward()\n",
    "        optimizer.step()\n",
    "\n",
    "        if i > 0 and i % 100 == 0:\n",
    "            val_acc = test_model(mono_val_loader, model)\n",
    "            val_acc_epochs_SGD_1.append(val_acc)\n",
    "            print('Epoch: [{}/{}], Step: [{}/{}], Validation Acc: {}'.format(epoch+1, num_epochs, i+1, len(mono_train_loader), val_acc))\n",
    "t1 = time.time()\n",
    "print ('Time elapse: {}'.format(t1-t0))"
   ]
  },
  {
   "cell_type": "markdown",
   "metadata": {},
   "source": [
    "### Model II"
   ]
  },
  {
   "cell_type": "code",
   "execution_count": null,
   "metadata": {},
   "outputs": [],
   "source": [
    "t0 = time.time()\n",
    "val_acc_epochs_SGD_10 = []\n",
    "\n",
    "emb_dim = 100\n",
    "model = BagOfNGram(len(BOW_token2id),emb_dim)\n",
    "learning_rate = 0.10\n",
    "num_epochs = 5\n",
    "criterion = torch.nn.CrossEntropyLoss()\n",
    "optimizer = torch.optim.SGD(model.parameters(), lr=learning_rate)\n",
    "\n",
    "\n",
    "for epoch in range(num_epochs):\n",
    "    for i, (data, lengths, labels) in enumerate(mono_train_loader):\n",
    "        model.train()\n",
    "        data_batch, length_batch, label_batch = data, lengths, labels\n",
    "        optimizer.zero_grad()\n",
    "        outputs = model(data_batch, length_batch)\n",
    "        loss = criterion(outputs, label_batch)\n",
    "        loss.backward()\n",
    "        optimizer.step()\n",
    "\n",
    "        if i > 0 and i % 100 == 0:\n",
    "            val_acc = test_model(mono_val_loader, model)\n",
    "            val_acc_epochs_SGD_10.append(val_acc)\n",
    "            print('Epoch: [{}/{}], Step: [{}/{}], Validation Acc: {}'.format(epoch+1, num_epochs, i+1, len(mono_train_loader), val_acc))\n",
    "        \n",
    "t1 = time.time()\n",
    "print ('Time elapse: {}'.format(t1-t0))"
   ]
  },
  {
   "cell_type": "markdown",
   "metadata": {},
   "source": [
    "### Model III"
   ]
  },
  {
   "cell_type": "code",
   "execution_count": 62,
   "metadata": {},
   "outputs": [
    {
     "name": "stdout",
     "output_type": "stream",
     "text": [
      "Epoch: [1/5], Step: [101/313], Validation Acc: 51.34\n",
      "Epoch: [1/5], Step: [201/313], Validation Acc: 55.58\n",
      "Epoch: [1/5], Step: [301/313], Validation Acc: 52.06\n",
      "Epoch: [2/5], Step: [101/313], Validation Acc: 57.92\n",
      "Epoch: [2/5], Step: [201/313], Validation Acc: 59.08\n",
      "Epoch: [2/5], Step: [301/313], Validation Acc: 56.28\n",
      "Epoch: [3/5], Step: [101/313], Validation Acc: 64.0\n",
      "Epoch: [3/5], Step: [201/313], Validation Acc: 57.12\n",
      "Epoch: [3/5], Step: [301/313], Validation Acc: 61.4\n",
      "Epoch: [4/5], Step: [101/313], Validation Acc: 60.92\n",
      "Epoch: [4/5], Step: [201/313], Validation Acc: 64.48\n",
      "Epoch: [4/5], Step: [301/313], Validation Acc: 60.12\n",
      "Epoch: [5/5], Step: [101/313], Validation Acc: 64.64\n",
      "Epoch: [5/5], Step: [201/313], Validation Acc: 66.26\n",
      "Epoch: [5/5], Step: [301/313], Validation Acc: 64.62\n",
      "Time elapse: 66.47437596321106\n"
     ]
    }
   ],
   "source": [
    "t0 = time.time()\n",
    "val_acc_epochs_SGD_20 = []\n",
    "\n",
    "emb_dim = 100\n",
    "model = BagOfNGram(len(BOW_token2id),emb_dim)\n",
    "learning_rate = 0.20\n",
    "num_epochs = 5\n",
    "criterion = torch.nn.CrossEntropyLoss()\n",
    "optimizer = torch.optim.SGD(model.parameters(), lr=learning_rate)\n",
    "\n",
    "\n",
    "for epoch in range(num_epochs):\n",
    "    for i, (data, lengths, labels) in enumerate(mono_train_loader):\n",
    "        model.train()\n",
    "        data_batch, length_batch, label_batch = data, lengths, labels\n",
    "        optimizer.zero_grad()\n",
    "        outputs = model(data_batch, length_batch)\n",
    "        loss = criterion(outputs, label_batch)\n",
    "        loss.backward()\n",
    "        optimizer.step()\n",
    "\n",
    "        if i > 0 and i % 100 == 0:\n",
    "            val_acc = test_model(mono_val_loader, model)\n",
    "            val_acc_epochs_SGD_20.append(val_acc)\n",
    "            print('Epoch: [{}/{}], Step: [{}/{}], Validation Acc: {}'.format(epoch+1, num_epochs, i+1, len(mono_train_loader), val_acc))\n",
    "    \n",
    "t1 = time.time()\n",
    "print ('Time elapse: {}'.format(t1-t0))"
   ]
  },
  {
   "cell_type": "code",
   "execution_count": 63,
   "metadata": {},
   "outputs": [
    {
     "data": {
      "text/plain": [
       "Text(0,0.5,'Validation Accuracy')"
      ]
     },
     "execution_count": 63,
     "metadata": {},
     "output_type": "execute_result"
    },
    {
     "data": {
      "image/png": "[encoded data removed]",
      "text/plain": [
       "<Figure size 432x288 with 1 Axes>"
      ]
     },
     "metadata": {
      "needs_background": "light"
     },
     "output_type": "display_data"
    }
   ],
   "source": [
    "lr_1=plt.plot(val_acc_epochs_SGD_1, marker='o', label='lr=0.01')\n",
    "lr_10=plt.plot(val_acc_epochs_SGD_10, marker='o', label='lr=0.10')\n",
    "lr_15=plt.plot(val_acc_epochs_SGD_20, marker='o', label='lr=0.20')\n",
    "\n",
    "plt.legend(loc=2)\n",
    "plt.xticks([])\n",
    "plt.grid()\n",
    "plt.ylabel('Validation Accuracy')\n",
    "#plt.title('Training Curve of 5 Epochs for Various Learning Rate')"
   ]
  },
  {
   "cell_type": "markdown",
   "metadata": {},
   "source": [
    "### Model IV"
   ]
  },
  {
   "cell_type": "code",
   "execution_count": 57,
   "metadata": {},
   "outputs": [
    {
     "name": "stdout",
     "output_type": "stream",
     "text": [
      "Epoch: [1/5], Step: [101/313], Validation Acc: 53.16\n",
      "Epoch: [1/5], Step: [201/313], Validation Acc: 57.3\n",
      "Epoch: [1/5], Step: [301/313], Validation Acc: 60.7\n",
      "Epoch: [2/5], Step: [101/313], Validation Acc: 56.64\n",
      "Epoch: [2/5], Step: [201/313], Validation Acc: 57.82\n",
      "Epoch: [2/5], Step: [301/313], Validation Acc: 60.54\n",
      "Epoch: [3/5], Step: [101/313], Validation Acc: 59.22\n",
      "Epoch: [3/5], Step: [201/313], Validation Acc: 64.94\n",
      "Epoch: [3/5], Step: [301/313], Validation Acc: 65.26\n",
      "Epoch: [4/5], Step: [101/313], Validation Acc: 60.54\n",
      "Epoch: [4/5], Step: [201/313], Validation Acc: 65.34\n",
      "Epoch: [4/5], Step: [301/313], Validation Acc: 61.5\n",
      "Epoch: [5/5], Step: [101/313], Validation Acc: 63.9\n",
      "Epoch: [5/5], Step: [201/313], Validation Acc: 64.4\n",
      "Epoch: [5/5], Step: [301/313], Validation Acc: 65.72\n",
      "Time elapse: 69.62148809432983\n"
     ]
    }
   ],
   "source": [
    "t0 = time.time()\n",
    "val_acc_epochs_SGD_10_step = []\n",
    "\n",
    "emb_dim = 100\n",
    "model = BagOfNGram(len(BOW_token2id),emb_dim)\n",
    "learning_rate = 0.1\n",
    "num_epochs = 5\n",
    "criterion = torch.nn.CrossEntropyLoss()\n",
    "optimizer = torch.optim.SGD(model.parameters(), lr=learning_rate)\n",
    "scheduler =  torch.optim.lr_scheduler.StepLR(optimizer, gamma = 0.8, step_size=3)\n",
    "\n",
    "\n",
    "for epoch in range(num_epochs):\n",
    "    scheduler.step()\n",
    "    for i, (data, lengths, labels) in enumerate(mono_train_loader):\n",
    "        model.train()\n",
    "        data_batch, length_batch, label_batch = data, lengths, labels\n",
    "        optimizer.zero_grad()\n",
    "        outputs = model(data_batch, length_batch)\n",
    "        loss = criterion(outputs, label_batch)\n",
    "        loss.backward()\n",
    "        optimizer.step()\n",
    "\n",
    "        if i > 0 and i % 100 == 0:\n",
    "            val_acc = test_model(mono_val_loader, model)\n",
    "            val_acc_epochs_SGD_10_step.append(val_acc)\n",
    "            print('Epoch: [{}/{}], Step: [{}/{}], Validation Acc: {}'.format(epoch+1, num_epochs, i+1, len(mono_train_loader), val_acc))\n",
    "    \n",
    "    \n",
    "t1 = time.time()\n",
    "print ('Time elapse: {}'.format(t1-t0))"
   ]
  },
  {
   "cell_type": "markdown",
   "metadata": {},
   "source": [
    "### Model V"
   ]
  },
  {
   "cell_type": "code",
   "execution_count": null,
   "metadata": {},
   "outputs": [],
   "source": [
    "\n",
    "\n",
    "t0 = time.time()\n",
    "val_acc_epochs_SGD_10_lambda = []\n",
    "\n",
    "emb_dim = 100\n",
    "model = BagOfNGram(len(BOW_token2id),emb_dim)\n",
    "learning_rate = 0.10\n",
    "num_epochs = 5\n",
    "lambda1 = lambda epoch: 0.8 ** epoch\n",
    "criterion = torch.nn.CrossEntropyLoss()\n",
    "optimizer = torch.optim.SGD(model.parameters(), lr=learning_rate)\n",
    "scheduler =  torch.optim.lr_scheduler.LambdaLR(optimizer, lr_lambda=[lambda1])\n",
    "\n",
    "for epoch in range(num_epochs):\n",
    "    scheduler.step()\n",
    "    for i, (data, lengths, labels) in enumerate(mono_train_loader):\n",
    "        model.train()\n",
    "        data_batch, length_batch, label_batch = data, lengths, labels\n",
    "        optimizer.zero_grad()\n",
    "        outputs = model(data_batch, length_batch)\n",
    "        loss = criterion(outputs, label_batch)\n",
    "        loss.backward()\n",
    "        optimizer.step()\n",
    "\n",
    "        if i > 0 and i % 100 == 0:\n",
    "            val_acc = test_model(mono_val_loader, model)\n",
    "            val_acc_epochs_SGD_10_lambda.append(val_acc)\n",
    "            print('Epoch: [{}/{}], Step: [{}/{}], Validation Acc: {}'.format(epoch+1, num_epochs, i+1, len(mono_train_loader), val_acc))\n",
    "    \n",
    "t1 = time.time()\n",
    "print ('Time elapse: {}'.format(t1-t0))"
   ]
  },
  {
   "cell_type": "code",
   "execution_count": 61,
   "metadata": {},
   "outputs": [
    {
     "data": {
      "text/plain": [
       "Text(0,0.5,'Validation Accuracy')"
      ]
     },
     "execution_count": 61,
     "metadata": {},
     "output_type": "execute_result"
    },
    {
     "data": {
      "image/png": "[encoded data removed]",
      "text/plain": [
       "<Figure size 432x288 with 1 Axes>"
      ]
     },
     "metadata": {
      "needs_background": "light"
     },
     "output_type": "display_data"
    }
   ],
   "source": [
    "lr_1=plt.plot(val_acc_epochs_SGD_10, marker='o', label='No Scheduler')\n",
    "lr_10=plt.plot(val_acc_epochs_SGD_10_step, marker='o', label='Step Annealing')\n",
    "lr_15=plt.plot(val_acc_epochs_SGD_10_lambda, marker='o', label='Lambda Annealing')\n",
    "\n",
    "plt.legend(loc=4)\n",
    "plt.xticks([])\n",
    "plt.grid()\n",
    "plt.ylabel('Validation Accuracy')\n",
    "#plt.title('Training Curve of 5 Epochs with Learning Rate Scheduler')"
   ]
  },
  {
   "cell_type": "markdown",
   "metadata": {},
   "source": [
    "### Model VI"
   ]
  },
  {
   "cell_type": "code",
   "execution_count": 69,
   "metadata": {},
   "outputs": [
    {
     "name": "stdout",
     "output_type": "stream",
     "text": [
      "Epoch: [1/5], Step: [101/313], Validation Acc: 76.66\n",
      "Epoch: [1/5], Step: [201/313], Validation Acc: 83.0\n",
      "Epoch: [1/5], Step: [301/313], Validation Acc: 85.22\n",
      "Epoch: [2/5], Step: [101/313], Validation Acc: 86.88\n",
      "Epoch: [2/5], Step: [201/313], Validation Acc: 86.92\n",
      "Epoch: [2/5], Step: [301/313], Validation Acc: 87.08\n",
      "Epoch: [3/5], Step: [101/313], Validation Acc: 86.3\n",
      "Epoch: [3/5], Step: [201/313], Validation Acc: 85.42\n",
      "Epoch: [3/5], Step: [301/313], Validation Acc: 87.12\n",
      "Epoch: [4/5], Step: [101/313], Validation Acc: 87.26\n",
      "Epoch: [4/5], Step: [201/313], Validation Acc: 87.0\n",
      "Epoch: [4/5], Step: [301/313], Validation Acc: 86.7\n",
      "Epoch: [5/5], Step: [101/313], Validation Acc: 86.42\n",
      "Epoch: [5/5], Step: [201/313], Validation Acc: 86.64\n",
      "Epoch: [5/5], Step: [301/313], Validation Acc: 86.9\n",
      "Time elapse: 79.69887280464172\n"
     ]
    }
   ],
   "source": [
    "t0 = time.time()\n",
    "val_acc_epochs_Adam_1 = []\n",
    "\n",
    "emb_dim = 100\n",
    "model = BagOfNGram(len(BOW_token2id),emb_dim)\n",
    "learning_rate = 0.01\n",
    "num_epochs = 5\n",
    "criterion = torch.nn.CrossEntropyLoss()\n",
    "optimizer = torch.optim.Adam(model.parameters(), lr=learning_rate)\n",
    "lambda1 = lambda epoch: 0.8 ** epoch\n",
    "scheduler =  torch.optim.lr_scheduler.LambdaLR(optimizer, lr_lambda=[lambda1])\n",
    "\n",
    "for epoch in range(num_epochs):\n",
    "    scheduler.step()\n",
    "    for i, (data, lengths, labels) in enumerate(mono_train_loader):\n",
    "        model.train()\n",
    "        data_batch, length_batch, label_batch = data, lengths, labels\n",
    "        optimizer.zero_grad()\n",
    "        outputs = model(data_batch, length_batch)\n",
    "        loss = criterion(outputs, label_batch)\n",
    "        loss.backward()\n",
    "        optimizer.step()\n",
    "\n",
    "        if i > 0 and i % 100 == 0:\n",
    "            val_acc = test_model(mono_val_loader, model)\n",
    "            val_acc_epochs_Adam_1.append(val_acc)\n",
    "            print('Epoch: [{}/{}], Step: [{}/{}], Validation Acc: {}'.format(epoch+1, num_epochs, i+1, len(mono_train_loader), val_acc))\n",
    "\n",
    "t1 = time.time()\n",
    "print ('Time elapse: {}'.format(t1-t0))"
   ]
  },
  {
   "cell_type": "code",
   "execution_count": 70,
   "metadata": {},
   "outputs": [
    {
     "data": {
      "text/plain": [
       "Text(0,0.5,'Validation Accuracy')"
      ]
     },
     "execution_count": 70,
     "metadata": {},
     "output_type": "execute_result"
    },
    {
     "data": {
      "image/png": "[encoded data removed]",
      "text/plain": [
       "<Figure size 432x288 with 1 Axes>"
      ]
     },
     "metadata": {
      "needs_background": "light"
     },
     "output_type": "display_data"
    }
   ],
   "source": [
    "sgd=plt.plot(val_acc_epochs_SGD_10, marker='o', label='SGD, lr=0.1')\n",
    "adam=plt.plot(val_acc_epochs_Adam_1, marker='o', label='Adam, lr=0.01')\n",
    "\n",
    "\n",
    "plt.legend(loc=4)\n",
    "plt.xticks([])\n",
    "plt.grid()\n",
    "plt.ylabel('Validation Accuracy')\n",
    "#plt.title('Training Curve of 5 Epochs with Learning Rate Scheduler')"
   ]
  },
  {
   "cell_type": "markdown",
   "metadata": {},
   "source": [
    "### Model VII"
   ]
  },
  {
   "cell_type": "code",
   "execution_count": 71,
   "metadata": {},
   "outputs": [],
   "source": [
    "# double the vocab size\n",
    "max_vocab_size_2 = 20000\n",
    "BOW_token2id_L, BOW_vocab_L= build_vocab(BOW_tokens, max_vocab_size_2)\n",
    "mono_train_data_indices_L = indices_dataset(mono_train_data_tokens, BOW_token2id_L)\n",
    "mono_val_data_indices_L = indices_dataset(mono_val_data_tokens, BOW_token2id_L)\n",
    "mono_test_data_indices_L = indices_dataset(mono_test_data_tokens, BOW_token2id_L)"
   ]
  },
  {
   "cell_type": "code",
   "execution_count": 72,
   "metadata": {},
   "outputs": [],
   "source": [
    "mono_train_dataset_L = aclImdbDataset(mono_train_data_indices_L, train_target)\n",
    "mono_train_loader_L = torch.utils.data.DataLoader(dataset=mono_train_dataset_L, batch_size=BATCH_SIZE, collate_fn=collate_func,shuffle=True)\n",
    "\n",
    "mono_val_dataset_L = aclImdbDataset(mono_val_data_indices_L, val_target)\n",
    "mono_val_loader_L = torch.utils.data.DataLoader(dataset=mono_val_dataset_L, batch_size=BATCH_SIZE, collate_fn=collate_func,shuffle=True)\n",
    "\n",
    "mono_test_dataset_L = aclImdbDataset(mono_test_data_indices_L, test_target)\n",
    "mono_test_loader_L = torch.utils.data.DataLoader(dataset=mono_test_dataset_L, batch_size=BATCH_SIZE, collate_fn=collate_func,shuffle=True)"
   ]
  },
  {
   "cell_type": "code",
   "execution_count": 73,
   "metadata": {},
   "outputs": [
    {
     "name": "stdout",
     "output_type": "stream",
     "text": [
      "Epoch: [1/5], Step: [101/313], Validation Acc: 75.48\n",
      "Epoch: [1/5], Step: [201/313], Validation Acc: 83.56\n",
      "Epoch: [1/5], Step: [301/313], Validation Acc: 81.16\n",
      "Epoch: [2/5], Step: [101/313], Validation Acc: 86.98\n",
      "Epoch: [2/5], Step: [201/313], Validation Acc: 87.02\n",
      "Epoch: [2/5], Step: [301/313], Validation Acc: 86.36\n",
      "Epoch: [3/5], Step: [101/313], Validation Acc: 87.48\n",
      "Epoch: [3/5], Step: [201/313], Validation Acc: 87.5\n",
      "Epoch: [3/5], Step: [301/313], Validation Acc: 87.46\n",
      "Epoch: [4/5], Step: [101/313], Validation Acc: 87.58\n",
      "Epoch: [4/5], Step: [201/313], Validation Acc: 87.92\n",
      "Epoch: [4/5], Step: [301/313], Validation Acc: 87.86\n",
      "Epoch: [5/5], Step: [101/313], Validation Acc: 87.44\n",
      "Epoch: [5/5], Step: [201/313], Validation Acc: 87.52\n",
      "Epoch: [5/5], Step: [301/313], Validation Acc: 87.58\n",
      "Time elapse: 92.1236572265625\n"
     ]
    }
   ],
   "source": [
    "t0 = time.time()\n",
    "val_acc_epochs_Adam_L = []\n",
    "\n",
    "emb_dim = 100\n",
    "model = BagOfNGram(len(BOW_token2id_L),emb_dim)\n",
    "learning_rate = 0.01\n",
    "num_epochs = 5\n",
    "criterion = torch.nn.CrossEntropyLoss()\n",
    "optimizer = torch.optim.Adam(model.parameters(), lr=learning_rate)\n",
    "lambda1 = lambda epoch: 0.8 ** epoch\n",
    "scheduler =  torch.optim.lr_scheduler.LambdaLR(optimizer, lr_lambda=[lambda1])\n",
    "\n",
    "\n",
    "for epoch in range(num_epochs):\n",
    "    scheduler.step()\n",
    "    for i, (data, lengths, labels) in enumerate(mono_train_loader_L):\n",
    "        model.train()\n",
    "        data_batch, length_batch, label_batch = data, lengths, labels\n",
    "        optimizer.zero_grad()\n",
    "        outputs = model(data_batch, length_batch)\n",
    "        loss = criterion(outputs, label_batch)\n",
    "        loss.backward()\n",
    "        optimizer.step()\n",
    "\n",
    "        if i > 0 and i % 100 == 0:\n",
    "            val_acc = test_model(mono_val_loader_L, model)\n",
    "            val_acc_epochs_Adam_L.append(val_acc)\n",
    "            print('Epoch: [{}/{}], Step: [{}/{}], Validation Acc: {}'.format(epoch+1, num_epochs, i+1, len(mono_train_loader_L), val_acc))\n",
    "\n",
    "t1 = time.time()\n",
    "print ('Time elapse: {}'.format(t1-t0))"
   ]
  },
  {
   "cell_type": "markdown",
   "metadata": {},
   "source": [
    "### Model VIII"
   ]
  },
  {
   "cell_type": "code",
   "execution_count": 74,
   "metadata": {},
   "outputs": [
    {
     "name": "stdout",
     "output_type": "stream",
     "text": [
      "Epoch: [1/5], Step: [101/313], Validation Acc: 78.08\n",
      "Epoch: [1/5], Step: [201/313], Validation Acc: 84.56\n",
      "Epoch: [1/5], Step: [301/313], Validation Acc: 83.74\n",
      "Epoch: [2/5], Step: [101/313], Validation Acc: 86.92\n",
      "Epoch: [2/5], Step: [201/313], Validation Acc: 86.5\n",
      "Epoch: [2/5], Step: [301/313], Validation Acc: 87.24\n",
      "Epoch: [3/5], Step: [101/313], Validation Acc: 87.28\n",
      "Epoch: [3/5], Step: [201/313], Validation Acc: 86.98\n",
      "Epoch: [3/5], Step: [301/313], Validation Acc: 86.4\n",
      "Epoch: [4/5], Step: [101/313], Validation Acc: 87.48\n",
      "Epoch: [4/5], Step: [201/313], Validation Acc: 86.92\n",
      "Epoch: [4/5], Step: [301/313], Validation Acc: 86.58\n",
      "Epoch: [5/5], Step: [101/313], Validation Acc: 86.84\n",
      "Epoch: [5/5], Step: [201/313], Validation Acc: 86.72\n",
      "Epoch: [5/5], Step: [301/313], Validation Acc: 86.72\n",
      "Time elapse: 125.08107304573059\n"
     ]
    }
   ],
   "source": [
    "t0 = time.time()\n",
    "val_acc_epochs_Adam_L_200 = []\n",
    "\n",
    "emb_dim = 200\n",
    "model = BagOfNGram(len(BOW_token2id_L),emb_dim)\n",
    "learning_rate = 0.01\n",
    "num_epochs = 5\n",
    "criterion = torch.nn.CrossEntropyLoss()\n",
    "optimizer = torch.optim.Adam(model.parameters(), lr=learning_rate)\n",
    "lambda1 = lambda epoch: 0.8 ** epoch\n",
    "scheduler =  torch.optim.lr_scheduler.LambdaLR(optimizer, lr_lambda=[lambda1])\n",
    "\n",
    "\n",
    "for epoch in range(num_epochs):\n",
    "    scheduler.step()\n",
    "    for i, (data, lengths, labels) in enumerate(mono_train_loader_L):\n",
    "        model.train()\n",
    "        data_batch, length_batch, label_batch = data, lengths, labels\n",
    "        optimizer.zero_grad()\n",
    "        outputs = model(data_batch, length_batch)\n",
    "        loss = criterion(outputs, label_batch)\n",
    "        loss.backward()\n",
    "        optimizer.step()\n",
    "\n",
    "        if i > 0 and i % 100 == 0:\n",
    "            val_acc = test_model(mono_val_loader_L, model)\n",
    "            val_acc_epochs_Adam_L_200.append(val_acc)\n",
    "            print('Epoch: [{}/{}], Step: [{}/{}], Validation Acc: {}'.format(epoch+1, num_epochs, i+1, len(mono_train_loader_L), val_acc))\n",
    "\n",
    "t1 = time.time()\n",
    "print ('Time elapse: {}'.format(t1-t0))"
   ]
  },
  {
   "cell_type": "code",
   "execution_count": 75,
   "metadata": {},
   "outputs": [
    {
     "data": {
      "text/plain": [
       "Text(0,0.5,'Validation Accuracy')"
      ]
     },
     "execution_count": 75,
     "metadata": {},
     "output_type": "execute_result"
    },
    {
     "data": {
      "image/png": "[encoded data removed]",
      "text/plain": [
       "<Figure size 432x288 with 1 Axes>"
      ]
     },
     "metadata": {
      "needs_background": "light"
     },
     "output_type": "display_data"
    }
   ],
   "source": [
    "adam=plt.plot(val_acc_epochs_Adam_1, marker='o', label='Vocab=10k, emb=100')\n",
    "adam_L=plt.plot(val_acc_epochs_Adam_L, marker='o', label='Vocab=20k, emb=100')\n",
    "adam_L_200=plt.plot(val_acc_epochs_Adam_L_200, marker='o', label='Vocab=20k, emb=200')\n",
    "\n",
    "\n",
    "plt.legend(loc=4)\n",
    "plt.xticks([])\n",
    "plt.grid()\n",
    "plt.ylabel('Validation Accuracy')\n",
    "#plt.title('Training Curve of 5 Epochs with Learning Rate Scheduler')"
   ]
  },
  {
   "cell_type": "markdown",
   "metadata": {},
   "source": [
    "### Model IX"
   ]
  },
  {
   "cell_type": "code",
   "execution_count": 354,
   "metadata": {},
   "outputs": [],
   "source": [
    "# Define BOW tokenize function with stemming and stopwords cleaning\n",
    "def BOW_tokenize_plus(data):\n",
    "    token_dataset = []\n",
    "    BOW_tokens = []\n",
    "    for i in data:\n",
    "        tokens = tokenize(i)\n",
    "        tokensFiltered = []\n",
    "        for words in tokens:  \n",
    "            if str(words) not in Stopwords:\n",
    "                tokensFiltered.append(ps.stem(words))\n",
    "        token_dataset.append(tokensFiltered)\n",
    "        BOW_tokens += tokensFiltered\n",
    "    return token_dataset,BOW_tokens\n",
    "\n",
    "# Advanced tokenize the train/validation/test set using Bag of Words when N=1\n",
    "mono_train_data_tokens_plus, BOW_tokens_plus = BOW_tokenize_plus(train_data)\n",
    "mono_val_data_tokens_plus, _ = BOW_tokenize_plus(val_data)\n",
    "mono_test_data_tokens_plus, _ = BOW_tokenize_plus(test_data)"
   ]
  },
  {
   "cell_type": "code",
   "execution_count": 355,
   "metadata": {},
   "outputs": [],
   "source": [
    "'''\n",
    "os.chdir(datadir)\n",
    "pkl.dump(mono_train_data_tokens_plus, open(\"mono_train_data_tokens_plus.p\", \"wb\"))\n",
    "pkl.dump(BOW_tokens_plus, open(\"BOW_tokens_plus.p\", \"wb\"))\n",
    "pkl.dump(mono_val_data_tokens_plus, open(\"mono_val_data_tokens_plus.p\", \"wb\"))\n",
    "pkl.dump(mono_test_data_tokens_plus, open(\"mono_test_data_tokens_plus.p\", \"wb\"))"
   ]
  },
  {
   "cell_type": "code",
   "execution_count": 8,
   "metadata": {},
   "outputs": [],
   "source": [
    "'''\n",
    "os.chdir(datadir)\n",
    "mono_train_data_tokens_plus = pkl.load(open(\"mono_train_data_tokens_plus.p\", \"rb\"))\n",
    "BOW_tokens_plus = pkl.load(open(\"BOW_tokens_plus.p\", \"rb\"))\n",
    "\n",
    "mono_val_data_tokens_plus = pkl.load(open(\"mono_val_data_tokens_plus.p\", \"rb\"))\n",
    "mono_test_data_tokens_plus = pkl.load(open(\"mono_test_data_tokens_plus.p\", \"rb\"))"
   ]
  },
  {
   "cell_type": "code",
   "execution_count": 76,
   "metadata": {},
   "outputs": [],
   "source": [
    "# Index data according to the new tokenization scheme\n",
    "BOW_token2id_plus, BOW_vocab_plus= build_vocab(BOW_tokens_plus, max_vocab_size_2)\n",
    "\n",
    "mono_train_data_indices_plus = indices_dataset(mono_train_data_tokens_plus, BOW_token2id_plus)\n",
    "mono_val_data_indices_plus = indices_dataset(mono_val_data_tokens_plus, BOW_token2id_plus)\n",
    "mono_test_data_indices_plus = indices_dataset(mono_test_data_tokens_plus, BOW_token2id_plus)\n",
    "\n",
    "BATCH_SIZE = 64\n",
    "mono_train_dataset_plus = aclImdbDataset(mono_train_data_indices_plus, train_target)\n",
    "mono_train_loader_plus = torch.utils.data.DataLoader(dataset=mono_train_dataset_plus, batch_size=BATCH_SIZE, collate_fn=collate_func,shuffle=True)\n",
    "\n",
    "mono_val_dataset_plus = aclImdbDataset(mono_val_data_indices_plus, val_target)\n",
    "mono_val_loader_plus = torch.utils.data.DataLoader(dataset=mono_val_dataset_plus, batch_size=BATCH_SIZE, collate_fn=collate_func,shuffle=True)\n",
    "\n",
    "mono_test_dataset_plus = aclImdbDataset(mono_test_data_indices_plus, test_target)\n",
    "mono_test_loader_plus = torch.utils.data.DataLoader(dataset=mono_test_dataset_plus, batch_size=BATCH_SIZE, collate_fn=collate_func,shuffle=True)"
   ]
  },
  {
   "cell_type": "code",
   "execution_count": 213,
   "metadata": {},
   "outputs": [
    {
     "name": "stdout",
     "output_type": "stream",
     "text": [
      "Epoch: [1/4], Step: [101/313], Validation Acc: 76.02\n",
      "Epoch: [1/4], Step: [201/313], Validation Acc: 86.08\n",
      "Epoch: [1/4], Step: [301/313], Validation Acc: 87.2\n",
      "Epoch: [2/4], Step: [101/313], Validation Acc: 88.06\n",
      "Epoch: [2/4], Step: [201/313], Validation Acc: 88.22\n",
      "Epoch: [2/4], Step: [301/313], Validation Acc: 88.36\n",
      "Epoch: [3/4], Step: [101/313], Validation Acc: 88.8\n",
      "Epoch: [3/4], Step: [201/313], Validation Acc: 88.7\n",
      "Epoch: [3/4], Step: [301/313], Validation Acc: 88.16\n",
      "Epoch: [4/4], Step: [101/313], Validation Acc: 88.2\n",
      "Epoch: [4/4], Step: [201/313], Validation Acc: 88.48\n",
      "Epoch: [4/4], Step: [301/313], Validation Acc: 87.98\n",
      "Time elapse: 72.07290697097778\n"
     ]
    }
   ],
   "source": [
    "t0 = time.time()\n",
    "val_acc_epochs_Adam_L_plus = []\n",
    "\n",
    "emb_dim = 100\n",
    "model = BagOfNGram(len(BOW_token2id_plus),emb_dim)\n",
    "learning_rate = 0.01\n",
    "num_epochs = 4\n",
    "criterion = torch.nn.CrossEntropyLoss()\n",
    "optimizer = torch.optim.Adam(model.parameters(), lr=learning_rate)\n",
    "lambda1 = lambda epoch: 0.8 ** epoch\n",
    "scheduler =  torch.optim.lr_scheduler.LambdaLR(optimizer, lr_lambda=[lambda1])\n",
    "\n",
    "\n",
    "for epoch in range(num_epochs):\n",
    "    scheduler.step()\n",
    "    for i, (data, lengths, labels) in enumerate(mono_train_loader_plus):\n",
    "        model.train()\n",
    "        data_batch, length_batch, label_batch = data, lengths, labels\n",
    "        optimizer.zero_grad()\n",
    "        outputs = model(data_batch, length_batch)\n",
    "        loss = criterion(outputs, label_batch)\n",
    "        loss.backward()\n",
    "        optimizer.step()\n",
    "\n",
    "        if i > 0 and i % 100 == 0:\n",
    "            val_acc = test_model(mono_val_loader_plus, model)\n",
    "            val_acc_epochs_Adam_L_plus.append(val_acc)\n",
    "            print('Epoch: [{}/{}], Step: [{}/{}], Validation Acc: {}'.format(epoch+1, num_epochs, i+1, len(mono_train_loader_plus), val_acc))\n",
    "\n",
    "t1 = time.time()\n",
    "print ('Time elapse: {}'.format(t1-t0))"
   ]
  },
  {
   "cell_type": "code",
   "execution_count": 204,
   "metadata": {},
   "outputs": [],
   "source": [
    "# Define a function that shows the three correct perdiction\n",
    "def three_correct_perdict(loader, model):\n",
    "    correct = 0\n",
    "    total = 0\n",
    "    model.eval()\n",
    "    for data, lengths, labels in loader:\n",
    "        i = 0\n",
    "        data_batch, length_batch, label_batch = data, lengths, labels\n",
    "        outputs = F.softmax(model(data_batch, length_batch), dim=1)\n",
    "        predicted = outputs.max(1, keepdim=True)[1]\n",
    "        correct = list(predicted.eq(labels.view_as(predicted)))\n",
    "        indices_data = list(data_batch)\n",
    "        label_target = list(label_batch)\n",
    "        if correct[i] == 1:\n",
    "            print('Data: {}, Label: {}, Predicted: {}'.format(list(indices_data[i].numpy()),label_target[i],predicted[i]))\n",
    "            total += 1\n",
    "            if total == 3:\n",
    "                break\n",
    "        else:\n",
    "            i += 1\n",
    "    return "
   ]
  },
  {
   "cell_type": "code",
   "execution_count": 205,
   "metadata": {},
   "outputs": [
    {
     "name": "stdout",
     "output_type": "stream",
     "text": [
      "Data: [169, 4, 873, 222, 14, 38, 8550, 7944, 891, 113, 10771, 3525, 238, 2, 2029, 3289, 277, 804, 628, 238, 2, 2358, 384, 17840, 2208, 368, 939, 861, 195, 2321, 33, 215, 348, 1868, 411, 12835, 1984, 15101, 1, 33, 1101, 71, 17, 35, 2727, 611, 982, 138, 493, 249, 1572, 6471, 19690, 1829, 797, 573, 549, 97, 2624, 7469, 14903, 17, 129, 29, 128, 986, 4, 78, 1, 1, 184, 164, 3695, 11702, 2, 14, 6453, 171, 164, 11458, 23, 1, 3, 43, 13621, 21, 4342, 685, 28, 66, 4579, 21, 591, 163, 108, 3394, 18396, 158, 20, 35, 15, 339, 5710, 7944, 820, 1, 3686, 18225, 8390, 1, 184, 2661, 1118, 49, 7, 6919, 3394, 18396, 33, 1784, 174, 410, 13621, 617, 697, 264, 2227, 3, 43, 124, 442, 136, 527, 1175, 5, 4286, 2915, 918, 59, 1059, 8, 105, 1276, 261, 41, 3, 559, 47, 442, 27, 283, 434, 368, 7, 404, 4298, 11702, 49, 6038, 653, 301, 257, 819, 127, 2, 417, 45, 5202, 10900, 3, 43, 1276, 20, 158, 18396, 1577, 390, 12, 365, 789, 364, 2915, 390, 7, 157, 295, 334, 71, 269, 945, 55, 270, 4, 0, 0, 0, 0, 0, 0, 0], Label: 0, Predicted: tensor([0])\n",
      "Data: [1543, 751, 77, 659, 138, 656, 1, 2, 804, 215, 1, 12, 77, 2737, 4, 42, 6017, 3, 10137, 1530, 86, 702, 737, 861, 321, 204, 127, 8774, 6752, 616, 224, 213, 12, 7, 516, 4920, 93, 11448, 13135, 2008, 3133, 1147, 4446, 2008, 195, 7263, 826, 109, 1415, 21, 1530, 1273, 10371, 2176, 20, 828, 2176, 1642, 1970, 57, 66, 828, 187, 280, 2870, 182, 100, 249, 2940, 213, 1, 3, 1, 1131, 6373, 5347, 63, 103, 67, 816, 1530, 300, 2685, 215, 57, 381, 5599, 1534, 18, 65, 1530, 2, 1880, 127, 14339, 3, 43, 17102, 875, 1618, 271, 77, 170, 5895, 2310, 1530, 291, 133, 2144, 1, 191, 25, 1083, 748, 2, 584, 2, 255, 4003, 108, 6, 15, 4, 875, 5736, 3706, 176, 87, 4026, 3, 0, 0, 0, 0, 0, 0, 0, 0, 0, 0, 0, 0, 0, 0, 0, 0, 0, 0, 0, 0, 0, 0, 0, 0, 0, 0, 0, 0, 0, 0, 0, 0, 0, 0, 0, 0, 0, 0, 0, 0, 0, 0, 0, 0, 0, 0, 0, 0, 0, 0, 0, 0, 0, 0, 0, 0, 0, 0, 0, 0, 0, 0, 0, 0, 0, 0, 0, 0, 0, 0], Label: 1, Predicted: tensor([1])\n",
      "Data: [32, 4, 111, 6, 12, 4, 1, 8, 28, 6, 8, 4, 140, 652, 19629, 1344, 4731, 111, 6, 103, 539, 2884, 452, 2335, 154, 50, 363, 4, 39, 5, 86, 219, 4, 1592, 12287, 38, 5390, 3032, 258, 3382, 1063, 2884, 49, 1226, 584, 165, 192, 10788, 1, 42, 32, 922, 3382, 8, 922, 18, 10, 192, 59, 5390, 3032, 1592, 12287, 445, 440, 2, 1, 735, 6845, 4, 112, 2409, 1829, 1, 2, 397, 158, 1840, 4650, 3681, 16501, 2863, 733, 82, 3692, 10788, 6, 8, 246, 3382, 327, 922, 9, 0, 0, 0, 0, 0, 0, 0, 0, 0, 0, 0, 0, 0, 0, 0, 0, 0, 0, 0, 0, 0, 0, 0, 0, 0, 0, 0, 0, 0, 0, 0, 0, 0, 0, 0, 0, 0, 0, 0, 0, 0, 0, 0, 0, 0, 0, 0, 0, 0, 0, 0, 0, 0, 0, 0, 0, 0, 0, 0, 0, 0, 0, 0, 0, 0, 0, 0, 0, 0, 0, 0, 0, 0, 0, 0, 0, 0, 0, 0, 0, 0, 0, 0, 0, 0, 0, 0, 0, 0, 0, 0, 0, 0, 0, 0, 0, 0, 0, 0, 0, 0, 0, 0, 0, 0, 0, 0], Label: 1, Predicted: tensor([1])\n"
     ]
    }
   ],
   "source": [
    "three_correct_perdict(mono_val_loader_plus, model)"
   ]
  },
  {
   "cell_type": "code",
   "execution_count": 211,
   "metadata": {},
   "outputs": [],
   "source": [
    "# Define a function that shows three incorrect prediction\n",
    "def three_incorrect_perdict(loader, model):\n",
    "    correct = 0\n",
    "    total = 0\n",
    "    model.eval()\n",
    "    for data, lengths, labels in loader:\n",
    "        i = 0\n",
    "        data_batch, length_batch, label_batch = data, lengths, labels\n",
    "        outputs = F.softmax(model(data_batch, length_batch), dim=1)\n",
    "        predicted = outputs.max(1, keepdim=True)[1]\n",
    "        correct = list(predicted.eq(labels.view_as(predicted)))\n",
    "        indices_data = list(data_batch)\n",
    "        label_target = list(label_batch)\n",
    "        if correct[i] != 1:\n",
    "            print('Data: {}, Label: {}, Predicted: {}'.format(list(indices_data[i].numpy()),label_target[i],predicted[i]))\n",
    "            total += 1\n",
    "            if total == 3:\n",
    "                break\n",
    "        else:\n",
    "            i += 1\n",
    "    return "
   ]
  },
  {
   "cell_type": "code",
   "execution_count": 212,
   "metadata": {},
   "outputs": [
    {
     "name": "stdout",
     "output_type": "stream",
     "text": [
      "Data: [3281, 593, 12220, 149, 155, 10480, 179, 7, 319, 3164, 733, 28, 868, 9, 70, 1514, 18093, 11126, 156, 3164, 421, 1, 3, 1, 1132, 3018, 11103, 31, 117, 257, 617, 957, 142, 847, 1823, 1, 497, 563, 403, 1063, 1530, 111, 6, 402, 7611, 593, 243, 7532, 47, 445, 140, 1, 3, 11307, 1530, 7481, 17784, 861, 13, 737, 8774, 81, 321, 55, 22, 481, 35, 9, 1539, 1063, 8627, 78, 2972, 62, 583, 11932, 213, 575, 15037, 10478, 1200, 169, 12774, 3, 11173, 26, 323, 200, 323, 6462, 382, 49, 697, 6, 46, 86, 213, 96, 7, 1, 7, 215, 188, 93, 209, 1597, 815, 30, 96, 1147, 27, 9338, 1543, 1063, 26, 19, 1, 3, 43, 5, 192, 210, 2454, 3430, 1131, 50, 635, 2501, 14, 38, 10, 1063, 1530, 6373, 5347, 990, 363, 135, 123, 38, 1576, 539, 1131, 759, 14, 735, 3364, 79, 1235, 6373, 104, 1880, 1530, 6600, 14150, 36, 11118, 1534, 291, 7, 1530, 97, 1675, 38, 1, 1, 201, 5697, 1346, 3026, 690, 3336, 31, 4307, 6983, 38, 1, 6, 25, 6173, 3, 43, 5, 7422, 1368, 524, 6922, 15548, 635, 655, 10, 5, 196, 25, 65, 112, 1, 5301, 377, 1815], Label: 1, Predicted: tensor([0])\n",
      "Data: [26, 54, 223, 485, 260, 17, 48, 1693, 456, 3831, 83, 30, 376, 44, 1, 17, 48, 215, 57, 110, 335, 313, 26, 57, 1709, 51, 659, 497, 497, 9, 733, 344, 191, 10, 4, 1184, 357, 357, 2, 3776, 508, 27, 51, 40, 122, 1, 297, 5, 9, 1007, 29, 19, 1064, 82, 75, 42, 204, 40, 120, 242, 594, 107, 20, 39, 4, 7, 26, 87, 2487, 300, 262, 0, 0, 0, 0, 0, 0, 0, 0, 0, 0, 0, 0, 0, 0, 0, 0, 0, 0, 0, 0, 0, 0, 0, 0, 0, 0, 0, 0, 0, 0, 0, 0, 0, 0, 0, 0, 0, 0, 0, 0, 0, 0, 0, 0, 0, 0, 0, 0, 0, 0, 0, 0, 0, 0, 0, 0, 0, 0, 0, 0, 0, 0, 0, 0, 0, 0, 0, 0, 0, 0, 0, 0, 0, 0, 0, 0, 0, 0, 0, 0, 0, 0, 0, 0, 0, 0, 0, 0, 0, 0, 0, 0, 0, 0, 0, 0, 0, 0, 0, 0, 0, 0, 0, 0, 0, 0, 0, 0, 0, 0, 0, 0, 0, 0, 0, 0, 0, 0, 0, 0, 0, 0, 0, 0, 0, 0, 0, 0, 0], Label: 0, Predicted: tensor([1])\n",
      "Data: [2289, 295, 916, 288, 819, 6631, 1640, 1556, 60, 646, 3714, 342, 746, 2095, 1200, 4584, 756, 436, 4911, 342, 2289, 10, 36, 1308, 295, 1226, 726, 10, 2, 1226, 9847, 1308, 5035, 401, 3876, 469, 11478, 74, 56, 478, 81, 298, 42, 122, 11323, 3, 14972, 426, 1389, 2337, 513, 428, 134, 2820, 153, 739, 4, 2, 1091, 9357, 2, 141, 2, 236, 89, 7, 40, 902, 1528, 265, 195, 534, 5831, 499, 2, 5194, 428, 45, 49, 2559, 304, 115, 828, 1, 213, 1226, 1655, 147, 8, 1226, 722, 298, 4460, 2605, 686, 403, 60, 646, 2, 18, 811, 428, 272, 1226, 893, 14396, 13, 103, 21, 537, 10, 428, 426, 1232, 251, 5483, 132, 307, 462, 427, 37, 198, 823, 7, 179, 50, 74, 56, 428, 426, 64, 181, 4, 451, 2, 224, 454, 71, 15, 4, 6, 1232, 168, 9, 258, 217, 428, 426, 664, 735, 2, 18, 87, 1075, 258, 2636, 15, 8, 217, 145, 63, 2739, 1832, 87, 0, 0, 0, 0, 0, 0, 0, 0, 0, 0, 0, 0, 0, 0, 0, 0, 0, 0, 0, 0, 0, 0, 0, 0, 0, 0, 0, 0, 0, 0, 0, 0, 0, 0, 0, 0], Label: 1, Predicted: tensor([0])\n"
     ]
    }
   ],
   "source": [
    "three_incorrect_perdict(mono_val_loader_plus, model)"
   ]
  },
  {
   "cell_type": "code",
   "execution_count": 79,
   "metadata": {},
   "outputs": [
    {
     "data": {
      "text/plain": [
       "Text(0,0.5,'Validation Accuracy')"
      ]
     },
     "execution_count": 79,
     "metadata": {},
     "output_type": "execute_result"
    },
    {
     "data": {
      "image/png": "[encoded data removed]",
      "text/plain": [
       "<Figure size 432x288 with 1 Axes>"
      ]
     },
     "metadata": {
      "needs_background": "light"
     },
     "output_type": "display_data"
    }
   ],
   "source": [
    "adam_L=plt.plot(val_acc_epochs_Adam_L, marker='o', label='Original')\n",
    "adam_L_plus=plt.plot(val_acc_epochs_Adam_L_plus, marker='o', label='Stemming and Stopwords Cleaning')\n",
    "\n",
    "plt.legend(loc=4)\n",
    "plt.xticks([])\n",
    "plt.grid()\n",
    "plt.ylabel('Validation Accuracy')\n",
    "#plt.title('Training Curve of 5 Epochs with Learning Rate Scheduler')"
   ]
  },
  {
   "cell_type": "code",
   "execution_count": null,
   "metadata": {},
   "outputs": [],
   "source": []
  },
  {
   "cell_type": "code",
   "execution_count": null,
   "metadata": {},
   "outputs": [],
   "source": []
  },
  {
   "cell_type": "markdown",
   "metadata": {},
   "source": [
    "## Section 2 Bag of Bi-gram Model"
   ]
  },
  {
   "cell_type": "code",
   "execution_count": 81,
   "metadata": {},
   "outputs": [],
   "source": [
    "# define bigram_tokenize function to tokenize input sentenses into bag of 2 words\n",
    "\n",
    "def bigram_tokenize_plus(data):\n",
    "    token_dataset = []\n",
    "    bigram_tokens = []\n",
    "    for i in data:\n",
    "        tokens = tokenize(i)\n",
    "        i_tokens = []\n",
    "        # remove stopwords and stemming\n",
    "        tokensFiltered = []\n",
    "        for words in tokens:\n",
    "            if str(words) not in Stopwords:\n",
    "                words = ps.stem(words)\n",
    "                tokensFiltered.append(words)\n",
    "        for j in range(len(tokensFiltered)-1):\n",
    "            bitokens = (tokensFiltered[j], tokensFiltered[j+1])\n",
    "            bigram_tokens.append(bitokens)\n",
    "            i_tokens.append(bitokens)   \n",
    "        token_dataset.append(i_tokens)\n",
    "    return token_dataset,bigram_tokens\n"
   ]
  },
  {
   "cell_type": "code",
   "execution_count": null,
   "metadata": {},
   "outputs": [],
   "source": [
    "bi_train_data_tokens, bigram_tokens = bigram_tokenize_plus(train_data)\n",
    "bi_val_data_tokens, _ = bigram_tokenize_plus(val_data)\n",
    "bi_test_data_tokens, _ = bigram_tokenize_plus(test_data)\n",
    "os.chdir(datadir)\n",
    "pkl.dump(bi_train_data_tokens, open(\"bi_train_data_tokens_plus.p\", \"wb\"))\n",
    "pkl.dump(bigram_tokens, open(\"bigram_tokens_plus.p\", \"wb\"))\n",
    "pkl.dump(bi_val_data_tokens, open(\"bi_val_data_tokens_plus.p\", \"wb\"))\n",
    "pkl.dump(bi_test_data_tokens, open(\"bi_test_data_tokens_plus.p\", \"wb\"))"
   ]
  },
  {
   "cell_type": "code",
   "execution_count": 83,
   "metadata": {},
   "outputs": [],
   "source": [
    "'''\n",
    "os.chdir(datadir)\n",
    "bi_train_data_tokens = pkl.load(open(\"bi_train_data_tokens_plus.p\", \"rb\"))\n",
    "bigram_tokens = pkl.load(open(\"bigram_tokens_plus.p\", \"rb\"))\n",
    "\n",
    "bi_val_data_tokens = pkl.load(open(\"bi_val_data_tokens_plus.p\", \"rb\"))\n",
    "bi_test_data_tokens = pkl.load(open(\"bi_test_data_tokens_plus.p\", \"rb\"))"
   ]
  },
  {
   "cell_type": "code",
   "execution_count": 84,
   "metadata": {},
   "outputs": [],
   "source": [
    "# build bigram vocabs with size of max_vocab_size_1\n",
    "bigram_token2id, bigram_vocab = build_vocab(bigram_tokens, max_vocab_size_1)\n",
    "\n",
    "# transfer the train/validation/test dataset of tokens into indices\n",
    "bi_train_data_indices = indices_dataset(bi_train_data_tokens, bigram_token2id)\n",
    "bi_val_data_indices = indices_dataset(bi_val_data_tokens, bigram_token2id)\n",
    "bi_test_data_indices = indices_dataset(bi_test_data_tokens, bigram_token2id)"
   ]
  },
  {
   "cell_type": "code",
   "execution_count": 86,
   "metadata": {},
   "outputs": [],
   "source": [
    "# Prepare training input and target for the model\n",
    "bi_train_dataset = aclImdbDataset(bi_train_data_indices, train_target)\n",
    "bi_train_loader = torch.utils.data.DataLoader(dataset=bi_train_dataset, batch_size=BATCH_SIZE, collate_fn=collate_func,shuffle=True)\n",
    "\n",
    "bi_val_dataset = aclImdbDataset(bi_val_data_indices, val_target)\n",
    "bi_val_loader = torch.utils.data.DataLoader(dataset=bi_val_dataset, batch_size=BATCH_SIZE, collate_fn=collate_func,shuffle=True)\n",
    "\n",
    "bi_test_dataset = aclImdbDataset(bi_test_data_indices, test_target)\n",
    "bi_test_loader = torch.utils.data.DataLoader(dataset=bi_test_dataset, batch_size=BATCH_SIZE, collate_fn=collate_func,shuffle=True)"
   ]
  },
  {
   "cell_type": "markdown",
   "metadata": {},
   "source": [
    "### Model X"
   ]
  },
  {
   "cell_type": "code",
   "execution_count": 87,
   "metadata": {},
   "outputs": [
    {
     "name": "stdout",
     "output_type": "stream",
     "text": [
      "Epoch: [1/5], Step: [101/313], Validation Acc: 50.34\n",
      "Epoch: [1/5], Step: [201/313], Validation Acc: 69.76\n",
      "Epoch: [1/5], Step: [301/313], Validation Acc: 80.64\n",
      "Epoch: [2/5], Step: [101/313], Validation Acc: 81.14\n",
      "Epoch: [2/5], Step: [201/313], Validation Acc: 78.88\n",
      "Epoch: [2/5], Step: [301/313], Validation Acc: 80.74\n",
      "Epoch: [3/5], Step: [101/313], Validation Acc: 82.56\n",
      "Epoch: [3/5], Step: [201/313], Validation Acc: 81.7\n",
      "Epoch: [3/5], Step: [301/313], Validation Acc: 82.0\n",
      "Epoch: [4/5], Step: [101/313], Validation Acc: 82.14\n",
      "Epoch: [4/5], Step: [201/313], Validation Acc: 81.96\n",
      "Epoch: [4/5], Step: [301/313], Validation Acc: 81.76\n",
      "Epoch: [5/5], Step: [101/313], Validation Acc: 82.74\n",
      "Epoch: [5/5], Step: [201/313], Validation Acc: 82.26\n",
      "Epoch: [5/5], Step: [301/313], Validation Acc: 82.34\n"
     ]
    }
   ],
   "source": [
    "bigram_val_acc_epochs = []\n",
    "\n",
    "emb_dim = 100\n",
    "model = BagOfNGram(len(bigram_token2id),emb_dim)\n",
    "learning_rate = 0.01\n",
    "num_epochs = 5\n",
    "criterion = torch.nn.CrossEntropyLoss()\n",
    "optimizer = torch.optim.Adam(model.parameters(), lr=learning_rate)\n",
    "lambda1 = lambda epoch: 0.8 ** epoch\n",
    "scheduler =  torch.optim.lr_scheduler.LambdaLR(optimizer, lr_lambda=[lambda1])\n",
    "\n",
    "for epoch in range(num_epochs):\n",
    "    scheduler.step()\n",
    "    for i, (data, lengths, labels) in enumerate(bi_train_loader):\n",
    "        model.train()\n",
    "        data_batch, length_batch, label_batch = data, lengths, labels\n",
    "        optimizer.zero_grad()\n",
    "        outputs = model(data_batch, length_batch)\n",
    "        loss = criterion(outputs, label_batch)\n",
    "        loss.backward()\n",
    "        optimizer.step()\n",
    "\n",
    "        if i > 0 and i % 100 == 0:\n",
    "            val_acc = test_model(bi_val_loader, model)\n",
    "            bigram_val_acc_epochs.append(val_acc)\n",
    "            print('Epoch: [{}/{}], Step: [{}/{}], Validation Acc: {}'.format(epoch+1, num_epochs, i+1, len(bi_train_loader), val_acc))\n",
    "\n",
    "                \n",
    "\n"
   ]
  },
  {
   "cell_type": "markdown",
   "metadata": {},
   "source": [
    "### Model XI"
   ]
  },
  {
   "cell_type": "code",
   "execution_count": 152,
   "metadata": {},
   "outputs": [],
   "source": [
    "# double the vocab size\n",
    "max_vocab_size_2 = 20000\n",
    "bigram_token2id_L, bigram_vocab_L = build_vocab(bigram_tokens, max_vocab_size_2)\n",
    "bi_train_data_indices_L = indices_dataset(bi_train_data_tokens, bigram_token2id_L)\n",
    "bi_val_data_indices_L = indices_dataset(bi_val_data_tokens, bigram_token2id_L)\n",
    "bi_test_data_indices_L = indices_dataset(bi_test_data_tokens, bigram_token2id_L)"
   ]
  },
  {
   "cell_type": "code",
   "execution_count": 159,
   "metadata": {},
   "outputs": [],
   "source": [
    "bi_train_dataset_L = aclImdbDataset(bi_train_data_indices_L, train_target)\n",
    "bi_train_loader_L = torch.utils.data.DataLoader(dataset=bi_train_dataset_L, batch_size=BATCH_SIZE, collate_fn=collate_func,shuffle=True)\n",
    "\n",
    "bi_val_dataset_L = aclImdbDataset(bi_val_data_indices_L, val_target)\n",
    "bi_val_loader_L = torch.utils.data.DataLoader(dataset=bi_val_dataset_L, batch_size=BATCH_SIZE, collate_fn=collate_func,shuffle=True)\n",
    "\n",
    "bi_test_dataset_L = aclImdbDataset(bi_test_data_indices_L, test_target)\n",
    "bi_test_loader_L = torch.utils.data.DataLoader(dataset=bi_test_dataset_L, batch_size=BATCH_SIZE, collate_fn=collate_func,shuffle=True)"
   ]
  },
  {
   "cell_type": "code",
   "execution_count": 160,
   "metadata": {},
   "outputs": [
    {
     "name": "stdout",
     "output_type": "stream",
     "text": [
      "Epoch: [1/5], Step: [101/313], Validation Acc: 50.5\n",
      "Epoch: [1/5], Step: [201/313], Validation Acc: 67.74\n",
      "Epoch: [1/5], Step: [301/313], Validation Acc: 81.92\n",
      "Epoch: [2/5], Step: [101/313], Validation Acc: 83.28\n",
      "Epoch: [2/5], Step: [201/313], Validation Acc: 83.14\n",
      "Epoch: [2/5], Step: [301/313], Validation Acc: 80.54\n",
      "Epoch: [3/5], Step: [101/313], Validation Acc: 84.12\n",
      "Epoch: [3/5], Step: [201/313], Validation Acc: 83.48\n",
      "Epoch: [3/5], Step: [301/313], Validation Acc: 84.38\n",
      "Epoch: [4/5], Step: [101/313], Validation Acc: 83.52\n",
      "Epoch: [4/5], Step: [201/313], Validation Acc: 84.1\n",
      "Epoch: [4/5], Step: [301/313], Validation Acc: 83.14\n",
      "Epoch: [5/5], Step: [101/313], Validation Acc: 83.7\n",
      "Epoch: [5/5], Step: [201/313], Validation Acc: 83.84\n",
      "Epoch: [5/5], Step: [301/313], Validation Acc: 83.1\n",
      "Time Elapsed:88.49860095977783\n"
     ]
    }
   ],
   "source": [
    "os.chdir(datadir)\n",
    "t0 = time.time()\n",
    "bigram_val_acc_epochs_Adam_100_L_1 = []\n",
    "\n",
    "emb_dim = 100\n",
    "model = BagOfNGram(len(bigram_token2id_L),emb_dim)\n",
    "learning_rate = 0.01\n",
    "num_epochs = 5\n",
    "criterion = torch.nn.CrossEntropyLoss()\n",
    "optimizer = torch.optim.Adam(model.parameters(), lr=learning_rate)\n",
    "lambda1 = lambda epoch: 0.9 ** epoch\n",
    "scheduler =  torch.optim.lr_scheduler.LambdaLR(optimizer, lr_lambda=[lambda1])\n",
    "\n",
    "for epoch in range(num_epochs):\n",
    "    scheduler.step()\n",
    "    for i, (data, lengths, labels) in enumerate(bi_train_loader_L):\n",
    "        model.train()\n",
    "        data_batch, length_batch, label_batch = data, lengths, labels\n",
    "        optimizer.zero_grad()\n",
    "        outputs = model(data_batch, length_batch)\n",
    "        loss = criterion(outputs, label_batch)\n",
    "        loss.backward()\n",
    "        optimizer.step()\n",
    "\n",
    "        if i > 0 and i % 100 == 0:\n",
    "            val_acc = test_model(bi_val_loader_L, model)\n",
    "            bigram_val_acc_epochs_Adam_100_L_1.append(val_acc)\n",
    "            print('Epoch: [{}/{}], Step: [{}/{}], Validation Acc: {}'.format(epoch+1, num_epochs, i+1, len(bi_train_loader_L), val_acc))\n",
    "\n",
    "t1 = time.time()\n",
    "print('Time Elapsed:{}'.format(t1-t0))\n",
    "\n",
    "\n"
   ]
  },
  {
   "cell_type": "markdown",
   "metadata": {},
   "source": [
    "### Model XII"
   ]
  },
  {
   "cell_type": "code",
   "execution_count": 152,
   "metadata": {},
   "outputs": [],
   "source": [
    "# double the vocab size again\n",
    "max_vocab_size_3 = 40000\n",
    "bigram_token2id_xL, bigram_vocab_xL = build_vocab(bigram_tokens, max_vocab_size_3)\n",
    "bi_train_data_indices_xL = indices_dataset(bi_train_data_tokens, bigram_token2id_xL)\n",
    "bi_val_data_indices_xL = indices_dataset(bi_val_data_tokens, bigram_token2id_xL)\n",
    "bi_test_data_indices_xL = indices_dataset(bi_test_data_tokens, bigram_token2id_xL)"
   ]
  },
  {
   "cell_type": "code",
   "execution_count": 159,
   "metadata": {},
   "outputs": [],
   "source": [
    "bi_train_dataset_xL = aclImdbDataset(bi_train_data_indices_xL, train_target)\n",
    "bi_train_loader_xL = torch.utils.data.DataLoader(dataset=bi_train_dataset_xL, batch_size=BATCH_SIZE, collate_fn=collate_func,shuffle=True)\n",
    "\n",
    "bi_val_dataset_xL = aclImdbDataset(bi_val_data_indices_xL, val_target)\n",
    "bi_val_loader_xL = torch.utils.data.DataLoader(dataset=bi_val_dataset_xL, batch_size=BATCH_SIZE, collate_fn=collate_func,shuffle=True)\n",
    "\n",
    "bi_test_dataset_xL = aclImdbDataset(bi_test_data_indices_xL, test_target)\n",
    "bi_test_loader_xL = torch.utils.data.DataLoader(dataset=bi_test_dataset_xL, batch_size=BATCH_SIZE, collate_fn=collate_func,shuffle=True)"
   ]
  },
  {
   "cell_type": "code",
   "execution_count": 133,
   "metadata": {},
   "outputs": [
    {
     "name": "stdout",
     "output_type": "stream",
     "text": [
      "Epoch: [1/5], Step: [101/313], Validation Acc: 61.66\n",
      "Epoch: [1/5], Step: [201/313], Validation Acc: 72.8\n",
      "Epoch: [1/5], Step: [301/313], Validation Acc: 82.24\n",
      "Epoch: [2/5], Step: [101/313], Validation Acc: 81.18\n",
      "Epoch: [2/5], Step: [201/313], Validation Acc: 83.32\n",
      "Epoch: [2/5], Step: [301/313], Validation Acc: 83.1\n",
      "Epoch: [3/5], Step: [101/313], Validation Acc: 85.26\n",
      "Epoch: [3/5], Step: [201/313], Validation Acc: 85.12\n",
      "Epoch: [3/5], Step: [301/313], Validation Acc: 85.38\n",
      "Epoch: [4/5], Step: [101/313], Validation Acc: 85.74\n",
      "Epoch: [4/5], Step: [201/313], Validation Acc: 85.44\n",
      "Epoch: [4/5], Step: [301/313], Validation Acc: 85.44\n",
      "Epoch: [5/5], Step: [101/313], Validation Acc: 85.36\n",
      "Epoch: [5/5], Step: [201/313], Validation Acc: 85.26\n",
      "Epoch: [5/5], Step: [301/313], Validation Acc: 85.4\n",
      "Time Elapsed:105.58992981910706\n"
     ]
    }
   ],
   "source": [
    "t0 = time.time()\n",
    "bigram_val_acc_epochs_Adam_100_xL_1 = []\n",
    "\n",
    "emb_dim = 100\n",
    "model = BagOfNGram(len(bigram_token2id_xL),emb_dim)\n",
    "learning_rate = 0.01\n",
    "num_epochs = 5\n",
    "criterion = torch.nn.CrossEntropyLoss()\n",
    "optimizer = torch.optim.Adam(model.parameters(), lr=learning_rate)\n",
    "lambda1 = lambda epoch: 0.9 ** epoch\n",
    "scheduler =  torch.optim.lr_scheduler.LambdaLR(optimizer, lr_lambda=[lambda1])\n",
    "\n",
    "for epoch in range(num_epochs):\n",
    "    scheduler.step()\n",
    "    for i, (data, lengths, labels) in enumerate(bi_train_loader_xL):\n",
    "        model.train()\n",
    "        data_batch, length_batch, label_batch = data, lengths, labels\n",
    "        optimizer.zero_grad()\n",
    "        outputs = model(data_batch, length_batch)\n",
    "        loss = criterion(outputs, label_batch)\n",
    "        loss.backward()\n",
    "        optimizer.step()\n",
    "\n",
    "        if i > 0 and i % 100 == 0:\n",
    "            val_acc = test_model(bi_val_loader_xL, model)\n",
    "            bigram_val_acc_epochs_Adam_100_xL_1.append(val_acc)\n",
    "            print('Epoch: [{}/{}], Step: [{}/{}], Validation Acc: {}'.format(epoch+1, num_epochs, i+1, len(bi_train_loader_xL), val_acc))\n",
    "\n",
    "t1 = time.time()\n",
    "print('Time Elapsed:{}'.format(t1-t0))\n",
    "\n"
   ]
  },
  {
   "cell_type": "code",
   "execution_count": 161,
   "metadata": {},
   "outputs": [
    {
     "data": {
      "text/plain": [
       "Text(0,0.5,'Validation Accuracy')"
      ]
     },
     "execution_count": 161,
     "metadata": {},
     "output_type": "execute_result"
    },
    {
     "data": {
      "image/png": "[encoded data removed]",
      "text/plain": [
       "<Figure size 432x288 with 1 Axes>"
      ]
     },
     "metadata": {
      "needs_background": "light"
     },
     "output_type": "display_data"
    }
   ],
   "source": [
    "\n",
    "plt.plot(bigram_val_acc_epochs, marker='o', label='Vocab Size=10k')\n",
    "plt.plot(bigram_val_acc_epochs_Adam_100_L_1, marker='o', label='Vocab Size=20k')\n",
    "plt.plot(bigram_val_acc_epochs_Adam_100_xL_1, marker='o', label='Vocab Size=40k')\n",
    "\n",
    "plt.legend(loc=4)\n",
    "plt.xticks([])\n",
    "plt.grid()\n",
    "plt.ylabel('Validation Accuracy')\n",
    "#plt.title('Training Curve of 5 Epochs with Learning Rate Scheduler')"
   ]
  },
  {
   "cell_type": "markdown",
   "metadata": {},
   "source": [
    "### Model XIII"
   ]
  },
  {
   "cell_type": "code",
   "execution_count": 134,
   "metadata": {},
   "outputs": [
    {
     "name": "stdout",
     "output_type": "stream",
     "text": [
      "Epoch: [1/5], Step: [101/313], Validation Acc: 76.32\n",
      "Epoch: [1/5], Step: [201/313], Validation Acc: 78.94\n",
      "Epoch: [1/5], Step: [301/313], Validation Acc: 83.56\n",
      "Epoch: [2/5], Step: [101/313], Validation Acc: 82.0\n",
      "Epoch: [2/5], Step: [201/313], Validation Acc: 83.86\n",
      "Epoch: [2/5], Step: [301/313], Validation Acc: 82.94\n",
      "Epoch: [3/5], Step: [101/313], Validation Acc: 82.54\n",
      "Epoch: [3/5], Step: [201/313], Validation Acc: 83.6\n",
      "Epoch: [3/5], Step: [301/313], Validation Acc: 85.3\n",
      "Epoch: [4/5], Step: [101/313], Validation Acc: 85.26\n",
      "Epoch: [4/5], Step: [201/313], Validation Acc: 84.66\n",
      "Epoch: [4/5], Step: [301/313], Validation Acc: 84.96\n",
      "Epoch: [5/5], Step: [101/313], Validation Acc: 85.24\n",
      "Epoch: [5/5], Step: [201/313], Validation Acc: 85.22\n",
      "Epoch: [5/5], Step: [301/313], Validation Acc: 85.04\n",
      "Time Elapsed:174.55276918411255\n"
     ]
    }
   ],
   "source": [
    "t0 = time.time()\n",
    "bigram_val_acc_epochs_Adam_200_xL_1 = []\n",
    "\n",
    "emb_dim = 200\n",
    "model = BagOfNGram(len(bigram_token2id_L),emb_dim)\n",
    "learning_rate = 0.01\n",
    "num_epochs = 5\n",
    "criterion = torch.nn.CrossEntropyLoss()\n",
    "optimizer = torch.optim.Adam(model.parameters(), lr=learning_rate)\n",
    "lambda1 = lambda epoch: 0.9 ** epoch\n",
    "scheduler =  torch.optim.lr_scheduler.LambdaLR(optimizer, lr_lambda=[lambda1])\n",
    "\n",
    "for epoch in range(num_epochs):\n",
    "    scheduler.step()\n",
    "    for i, (data, lengths, labels) in enumerate(bi_train_loader_L):\n",
    "        model.train()\n",
    "        data_batch, length_batch, label_batch = data, lengths, labels\n",
    "        optimizer.zero_grad()\n",
    "        outputs = model(data_batch, length_batch)\n",
    "        loss = criterion(outputs, label_batch)\n",
    "        loss.backward()\n",
    "        optimizer.step()\n",
    "\n",
    "        if i > 0 and i % 100 == 0:\n",
    "            val_acc = test_model(bi_val_loader_L, model)\n",
    "            bigram_val_acc_epochs_Adam_200_xL_1.append(val_acc)\n",
    "            print('Epoch: [{}/{}], Step: [{}/{}], Validation Acc: {}'.format(epoch+1, num_epochs, i+1, len(bi_train_loader_L), val_acc))\n",
    "\n",
    "t1 = time.time()\n",
    "print('Time Elapsed:{}'.format(t1-t0))\n"
   ]
  },
  {
   "cell_type": "markdown",
   "metadata": {},
   "source": [
    "### Model XIV"
   ]
  },
  {
   "cell_type": "code",
   "execution_count": 132,
   "metadata": {},
   "outputs": [
    {
     "name": "stdout",
     "output_type": "stream",
     "text": [
      "Epoch: [1/5], Step: [101/313], Validation Acc: 60.88\n",
      "Epoch: [1/5], Step: [201/313], Validation Acc: 75.7\n",
      "Epoch: [1/5], Step: [301/313], Validation Acc: 81.72\n",
      "Epoch: [2/5], Step: [101/313], Validation Acc: 83.6\n",
      "Epoch: [2/5], Step: [201/313], Validation Acc: 84.2\n",
      "Epoch: [2/5], Step: [301/313], Validation Acc: 83.84\n",
      "Epoch: [3/5], Step: [101/313], Validation Acc: 84.58\n",
      "Epoch: [3/5], Step: [201/313], Validation Acc: 85.32\n",
      "Epoch: [3/5], Step: [301/313], Validation Acc: 85.68\n",
      "Epoch: [4/5], Step: [101/313], Validation Acc: 84.62\n",
      "Epoch: [4/5], Step: [201/313], Validation Acc: 84.66\n",
      "Epoch: [4/5], Step: [301/313], Validation Acc: 85.28\n",
      "Epoch: [5/5], Step: [101/313], Validation Acc: 81.8\n",
      "Epoch: [5/5], Step: [201/313], Validation Acc: 84.96\n",
      "Epoch: [5/5], Step: [301/313], Validation Acc: 85.18\n",
      "Time elapse: 242.99939465522766\n"
     ]
    }
   ],
   "source": [
    "t0 = time.time()\n",
    "bigram_val_acc_epochs_Adam_300_xL_01 = []\n",
    "\n",
    "emb_dim = 300\n",
    "model = BagOfNGram(len(bigram_token2id_L),emb_dim)\n",
    "learning_rate = 0.01\n",
    "num_epochs = 5\n",
    "criterion = torch.nn.CrossEntropyLoss()\n",
    "optimizer = torch.optim.Adam(model.parameters(), lr=learning_rate)\n",
    "lambda1 = lambda epoch: 0.90 ** epoch\n",
    "scheduler =  torch.optim.lr_scheduler.LambdaLR(optimizer, lr_lambda=[lambda1])\n",
    "\n",
    "for epoch in range(num_epochs):\n",
    "    scheduler.step()\n",
    "    for i, (data, lengths, labels) in enumerate(bi_train_loader_L):\n",
    "        model.train()\n",
    "        data_batch, length_batch, label_batch = data, lengths, labels\n",
    "        optimizer.zero_grad()\n",
    "        outputs = model(data_batch, length_batch)\n",
    "        loss = criterion(outputs, label_batch)\n",
    "        loss.backward()\n",
    "        optimizer.step()\n",
    "\n",
    "        if i > 0 and i % 100 == 0:\n",
    "            val_acc = test_model(bi_val_loader_L, model)\n",
    "            bigram_val_acc_epochs_Adam_300_xL_01.append(val_acc)\n",
    "            print('Epoch: [{}/{}], Step: [{}/{}], Validation Acc: {}'.format(epoch+1, num_epochs, i+1, len(bi_train_loader), val_acc))\n",
    "\n",
    "t1 = time.time()\n",
    "print('Time elapse: {}'.format(t1-t0))\n",
    "\n"
   ]
  },
  {
   "cell_type": "code",
   "execution_count": 135,
   "metadata": {},
   "outputs": [
    {
     "data": {
      "text/plain": [
       "Text(0,0.5,'Validation Accuracy')"
      ]
     },
     "execution_count": 135,
     "metadata": {},
     "output_type": "execute_result"
    },
    {
     "data": {
      "image/png": "[encoded data removed]",
      "text/plain": [
       "<Figure size 432x288 with 1 Axes>"
      ]
     },
     "metadata": {
      "needs_background": "light"
     },
     "output_type": "display_data"
    }
   ],
   "source": [
    "\n",
    "plt.plot(bigram_val_acc_epochs_Adam_100_xL_1, marker='o', label='Emb dim=100')\n",
    "plt.plot(bigram_val_acc_epochs_Adam_200_xL_1, marker='o', label='Emb dim=200')\n",
    "plt.plot(bigram_val_acc_epochs_Adam_300_xL_01, marker='o', label='Emb dim=300')\n",
    "\n",
    "\n",
    "plt.legend(loc=4)\n",
    "plt.xticks([])\n",
    "plt.grid()\n",
    "plt.ylabel('Validation Accuracy')\n",
    "#plt.title('Training Curve of 5 Epochs with Learning Rate Scheduler')"
   ]
  },
  {
   "cell_type": "code",
   "execution_count": null,
   "metadata": {},
   "outputs": [],
   "source": []
  },
  {
   "cell_type": "code",
   "execution_count": null,
   "metadata": {},
   "outputs": [],
   "source": []
  },
  {
   "cell_type": "code",
   "execution_count": null,
   "metadata": {},
   "outputs": [],
   "source": []
  },
  {
   "cell_type": "code",
   "execution_count": null,
   "metadata": {},
   "outputs": [],
   "source": []
  },
  {
   "cell_type": "code",
   "execution_count": null,
   "metadata": {},
   "outputs": [],
   "source": []
  },
  {
   "cell_type": "markdown",
   "metadata": {},
   "source": [
    "## Section 3 Bag of Tri-gram Model"
   ]
  },
  {
   "cell_type": "code",
   "execution_count": 103,
   "metadata": {},
   "outputs": [],
   "source": [
    "def trigram_tokenize_plus(data):\n",
    "    token_dataset = []\n",
    "    trigram_tokens = []\n",
    "    for i in data:\n",
    "        tokens = tokenize(i)\n",
    "        i_tokens = []\n",
    "        # remove stopwords and stemming\n",
    "        tokensFiltered = []\n",
    "        for words in tokens:\n",
    "            if str(words) not in Stopwords:\n",
    "                words = ps.stem(words)\n",
    "                tokensFiltered.append(words)\n",
    "        for j in range(len(tokensFiltered)-2):\n",
    "            tritokens = (tokensFiltered[j], tokensFiltered[j+1], tokensFiltered[j+2])\n",
    "            trigram_tokens.append(tritokens)\n",
    "            i_tokens.append(tritokens)   \n",
    "        token_dataset.append(i_tokens)\n",
    "    return token_dataset,trigram_tokens"
   ]
  },
  {
   "cell_type": "code",
   "execution_count": 104,
   "metadata": {},
   "outputs": [],
   "source": [
    "tri_train_data_tokens, trigram_tokens = trigram_tokenize_plus(train_data)\n",
    "tri_val_data_tokens, _ = trigram_tokenize_plus(val_data)\n",
    "tri_test_data_tokens, _ = trigram_tokenize_plus(test_data)\n",
    "\n",
    "os.chdir(datadir)\n",
    "pkl.dump(tri_train_data_tokens, open(\"tri_train_data_tokens_plus.p\", \"wb\"))\n",
    "pkl.dump(trigram_tokens, open(\"trigram_tokens_plus.p\", \"wb\"))\n",
    "pkl.dump(tri_val_data_tokens, open(\"tri_val_data_tokens_plus.p\", \"wb\"))\n",
    "pkl.dump(tri_test_data_tokens, open(\"tri_test_data_tokens_plus.p\", \"wb\"))\n"
   ]
  },
  {
   "cell_type": "markdown",
   "metadata": {},
   "source": [
    "### Model XIII"
   ]
  },
  {
   "cell_type": "code",
   "execution_count": 109,
   "metadata": {},
   "outputs": [],
   "source": [
    "trigram_token2id, trigram_vocab = build_vocab(trigram_tokens, max_vocab_size_1)\n",
    "tri_train_data_indices = indices_dataset(tri_train_data_tokens, trigram_token2id)\n",
    "tri_val_data_indices = indices_dataset(tri_val_data_tokens, trigram_token2id)\n",
    "tri_test_data_indices = indices_dataset(tri_test_data_tokens, trigram_token2id)\n",
    "\n",
    "tri_train_dataset = aclImdbDataset(tri_train_data_indices, train_target)\n",
    "tri_train_loader = torch.utils.data.DataLoader(dataset=tri_train_dataset, batch_size=BATCH_SIZE, collate_fn=collate_func,shuffle=True)\n",
    "\n",
    "tri_val_dataset = aclImdbDataset(tri_val_data_indices, val_target)\n",
    "tri_val_loader = torch.utils.data.DataLoader(dataset=tri_val_dataset, batch_size=BATCH_SIZE, collate_fn=collate_func,shuffle=True)\n",
    "\n",
    "tri_test_dataset = aclImdbDataset(tri_test_data_indices, test_target)\n",
    "tri_test_loader = torch.utils.data.DataLoader(dataset=tri_test_dataset, batch_size=BATCH_SIZE, collate_fn=collate_func,shuffle=True)"
   ]
  },
  {
   "cell_type": "code",
   "execution_count": 113,
   "metadata": {},
   "outputs": [
    {
     "name": "stdout",
     "output_type": "stream",
     "text": [
      "Epoch: [1/5], Step: [101/313], Validation Acc: 51.64\n",
      "Epoch: [1/5], Step: [201/313], Validation Acc: 49.98\n",
      "Epoch: [1/5], Step: [301/313], Validation Acc: 56.06\n",
      "Epoch: [2/5], Step: [101/313], Validation Acc: 61.18\n",
      "Epoch: [2/5], Step: [201/313], Validation Acc: 70.0\n",
      "Epoch: [2/5], Step: [301/313], Validation Acc: 65.48\n",
      "Epoch: [3/5], Step: [101/313], Validation Acc: 68.76\n",
      "Epoch: [3/5], Step: [201/313], Validation Acc: 71.14\n",
      "Epoch: [3/5], Step: [301/313], Validation Acc: 71.14\n",
      "Epoch: [4/5], Step: [101/313], Validation Acc: 68.2\n",
      "Epoch: [4/5], Step: [201/313], Validation Acc: 71.54\n",
      "Epoch: [4/5], Step: [301/313], Validation Acc: 70.28\n",
      "Epoch: [5/5], Step: [101/313], Validation Acc: 72.12\n",
      "Epoch: [5/5], Step: [201/313], Validation Acc: 72.58\n",
      "Epoch: [5/5], Step: [301/313], Validation Acc: 72.66\n",
      "Time Elapsed:125.52675890922546\n"
     ]
    }
   ],
   "source": [
    "t0 = time.time()\n",
    "trigram_val_acc_epochs_Adam_1 = []\n",
    "\n",
    "emb_dim = 100\n",
    "model = BagOfNGram(len(trigram_token2id),emb_dim)\n",
    "learning_rate = 0.01\n",
    "num_epochs = 5\n",
    "criterion = torch.nn.CrossEntropyLoss()\n",
    "optimizer = torch.optim.Adam(model.parameters(), lr=learning_rate)\n",
    "lambda1 = lambda epoch: 0.90 ** epoch\n",
    "scheduler =  torch.optim.lr_scheduler.LambdaLR(optimizer, lr_lambda=[lambda1])\n",
    "\n",
    "for epoch in range(num_epochs):\n",
    "    scheduler.step()\n",
    "    for i, (data, lengths, labels) in enumerate(tri_train_loader):\n",
    "        model.train()\n",
    "        data_batch, length_batch, label_batch = data, lengths, labels\n",
    "        optimizer.zero_grad()\n",
    "        outputs = model(data_batch, length_batch)\n",
    "        loss = criterion(outputs, label_batch)\n",
    "        loss.backward()\n",
    "        optimizer.step()\n",
    "\n",
    "        if i > 0 and i % 100 == 0:\n",
    "            val_acc = test_model(tri_val_loader, model)\n",
    "            trigram_val_acc_epochs_Adam_1.append(val_acc)\n",
    "            print('Epoch: [{}/{}], Step: [{}/{}], Validation Acc: {}'.format(epoch+1, num_epochs, i+1, len(tri_train_loader), val_acc))\n",
    "\n",
    "t1 = time.time()\n",
    "print('Time Elapsed:{}'.format(t1-t0))\n"
   ]
  },
  {
   "cell_type": "markdown",
   "metadata": {},
   "source": [
    "### Model XIV"
   ]
  },
  {
   "cell_type": "code",
   "execution_count": 148,
   "metadata": {},
   "outputs": [],
   "source": [
    "max_vocab_size_3 = 9 * max_vocab_size_1\n",
    "trigram_token2id_L, trigram_vocab_L = build_vocab(trigram_tokens, max_vocab_size_3)\n",
    "tri_train_data_indices_L = indices_dataset(tri_train_data_tokens, trigram_token2id_L)\n",
    "tri_val_data_indices_L = indices_dataset(tri_val_data_tokens, trigram_token2id_L)\n",
    "tri_test_data_indices_L = indices_dataset(tri_test_data_tokens, trigram_token2id_L)\n",
    "\n",
    "tri_train_dataset_L = aclImdbDataset(tri_train_data_indices_L, train_target)\n",
    "tri_train_loader_L = torch.utils.data.DataLoader(dataset=tri_train_dataset_L, batch_size=BATCH_SIZE, collate_fn=collate_func,shuffle=True)\n",
    "\n",
    "tri_val_dataset_L = aclImdbDataset(tri_val_data_indices_L, val_target)\n",
    "tri_val_loader_L = torch.utils.data.DataLoader(dataset=tri_val_dataset_L, batch_size=BATCH_SIZE, collate_fn=collate_func,shuffle=True)\n",
    "\n",
    "tri_test_dataset_L = aclImdbDataset(tri_test_data_indices_L, test_target)\n",
    "tri_test_loader_L = torch.utils.data.DataLoader(dataset=tri_test_dataset_L, batch_size=BATCH_SIZE, collate_fn=collate_func,shuffle=True)"
   ]
  },
  {
   "cell_type": "code",
   "execution_count": 149,
   "metadata": {},
   "outputs": [
    {
     "name": "stdout",
     "output_type": "stream",
     "text": [
      "Epoch: [1/5], Step: [101/313], Validation Acc: 49.9\n",
      "Epoch: [1/5], Step: [201/313], Validation Acc: 50.02\n",
      "Epoch: [1/5], Step: [301/313], Validation Acc: 56.14\n",
      "Epoch: [2/5], Step: [101/313], Validation Acc: 60.44\n",
      "Epoch: [2/5], Step: [201/313], Validation Acc: 65.28\n",
      "Epoch: [2/5], Step: [301/313], Validation Acc: 71.78\n",
      "Epoch: [3/5], Step: [101/313], Validation Acc: 72.52\n",
      "Epoch: [3/5], Step: [201/313], Validation Acc: 65.42\n",
      "Epoch: [3/5], Step: [301/313], Validation Acc: 75.14\n",
      "Epoch: [4/5], Step: [101/313], Validation Acc: 75.06\n",
      "Epoch: [4/5], Step: [201/313], Validation Acc: 73.5\n",
      "Epoch: [4/5], Step: [301/313], Validation Acc: 74.78\n",
      "Epoch: [5/5], Step: [101/313], Validation Acc: 73.7\n",
      "Epoch: [5/5], Step: [201/313], Validation Acc: 74.26\n",
      "Epoch: [5/5], Step: [301/313], Validation Acc: 73.98\n",
      "Time Elapsed:184.7683048248291\n"
     ]
    }
   ],
   "source": [
    "t0 = time.time()\n",
    "trigram_val_acc_epochs_Adam_L = []\n",
    "\n",
    "emb_dim = 100\n",
    "model = BagOfNGram(len(trigram_token2id_L),emb_dim)\n",
    "learning_rate = 0.01\n",
    "num_epochs = 5\n",
    "criterion = torch.nn.CrossEntropyLoss()\n",
    "optimizer = torch.optim.Adam(model.parameters(), lr=learning_rate)\n",
    "lambda1 = lambda epoch: 0.70 ** epoch\n",
    "scheduler =  torch.optim.lr_scheduler.LambdaLR(optimizer, lr_lambda=[lambda1])\n",
    "\n",
    "for epoch in range(num_epochs):\n",
    "    scheduler.step()\n",
    "    for i, (data, lengths, labels) in enumerate(tri_train_loader_L):\n",
    "        model.train()\n",
    "        data_batch, length_batch, label_batch = data, lengths, labels\n",
    "        optimizer.zero_grad()\n",
    "        outputs = model(data_batch, length_batch)\n",
    "        loss = criterion(outputs, label_batch)\n",
    "        loss.backward()\n",
    "        optimizer.step()\n",
    "\n",
    "        if i > 0 and i % 100 == 0:\n",
    "            val_acc = test_model(tri_val_loader_L, model)\n",
    "            trigram_val_acc_epochs_Adam_L.append(val_acc)\n",
    "            print('Epoch: [{}/{}], Step: [{}/{}], Validation Acc: {}'.format(epoch+1, num_epochs, i+1, len(tri_train_loader_L), val_acc))\n",
    "\n",
    "\n",
    "t1 = time.time()\n",
    "print('Time Elapsed:{}'.format(t1-t0))"
   ]
  },
  {
   "cell_type": "code",
   "execution_count": 173,
   "metadata": {},
   "outputs": [
    {
     "data": {
      "text/plain": [
       "Text(0,0.5,'Validation Accuracy')"
      ]
     },
     "execution_count": 173,
     "metadata": {},
     "output_type": "execute_result"
    },
    {
     "data": {
      "image/png": "[encoded data removed]",
      "text/plain": [
       "<Figure size 432x288 with 1 Axes>"
      ]
     },
     "metadata": {
      "needs_background": "light"
     },
     "output_type": "display_data"
    }
   ],
   "source": [
    "plt.plot(trigram_val_acc_epochs_Adam_1, marker='o', label='Vocab Size=10K')\n",
    "plt.plot(trigram_val_acc_epochs_Adam_L, marker='o', label='Vocab Size=90K')\n",
    "\n",
    "\n",
    "\n",
    "plt.legend(loc=4)\n",
    "plt.xticks([])\n",
    "plt.grid()\n",
    "plt.ylabel('Validation Accuracy')\n"
   ]
  },
  {
   "cell_type": "markdown",
   "metadata": {},
   "source": [
    "### Model XV"
   ]
  },
  {
   "cell_type": "code",
   "execution_count": 150,
   "metadata": {},
   "outputs": [
    {
     "name": "stdout",
     "output_type": "stream",
     "text": [
      "Epoch: [1/5], Step: [101/313], Validation Acc: 56.52\n",
      "Epoch: [1/5], Step: [201/313], Validation Acc: 61.8\n",
      "Epoch: [1/5], Step: [301/313], Validation Acc: 50.02\n",
      "Epoch: [2/5], Step: [101/313], Validation Acc: 70.2\n",
      "Epoch: [2/5], Step: [201/313], Validation Acc: 67.64\n",
      "Epoch: [2/5], Step: [301/313], Validation Acc: 65.76\n",
      "Epoch: [3/5], Step: [101/313], Validation Acc: 70.0\n",
      "Epoch: [3/5], Step: [201/313], Validation Acc: 69.94\n",
      "Epoch: [3/5], Step: [301/313], Validation Acc: 72.78\n",
      "Epoch: [4/5], Step: [101/313], Validation Acc: 73.88\n",
      "Epoch: [4/5], Step: [201/313], Validation Acc: 73.58\n",
      "Epoch: [4/5], Step: [301/313], Validation Acc: 75.6\n",
      "Epoch: [5/5], Step: [101/313], Validation Acc: 72.58\n",
      "Epoch: [5/5], Step: [201/313], Validation Acc: 75.0\n",
      "Epoch: [5/5], Step: [301/313], Validation Acc: 73.66\n",
      "Time Elapsed:326.5444359779358\n"
     ]
    }
   ],
   "source": [
    "t0 = time.time()\n",
    "trigram_val_acc_epochs_Adam_L_200 = []\n",
    "\n",
    "emb_dim = 200\n",
    "model = BagOfNGram(len(trigram_token2id_L),emb_dim)\n",
    "learning_rate = 0.01\n",
    "num_epochs = 5\n",
    "criterion = torch.nn.CrossEntropyLoss()\n",
    "optimizer = torch.optim.Adam(model.parameters(), lr=learning_rate)\n",
    "lambda1 = lambda epoch: 0.9 ** epoch\n",
    "scheduler =  torch.optim.lr_scheduler.LambdaLR(optimizer, lr_lambda=[lambda1])\n",
    "\n",
    "for epoch in range(num_epochs):\n",
    "    scheduler.step()\n",
    "    for i, (data, lengths, labels) in enumerate(tri_train_loader_L):\n",
    "        model.train()\n",
    "        data_batch, length_batch, label_batch = data, lengths, labels\n",
    "        optimizer.zero_grad()\n",
    "        outputs = model(data_batch, length_batch)\n",
    "        loss = criterion(outputs, label_batch)\n",
    "        loss.backward()\n",
    "        optimizer.step()\n",
    "\n",
    "        if i > 0 and i % 100 == 0:\n",
    "            val_acc = test_model(tri_val_loader_L, model)\n",
    "            trigram_val_acc_epochs_Adam_L_200.append(val_acc)\n",
    "            print('Epoch: [{}/{}], Step: [{}/{}], Validation Acc: {}'.format(epoch+1, num_epochs, i+1, len(tri_train_loader_L), val_acc))\n",
    "\n",
    "\n",
    "t1 = time.time()\n",
    "print('Time Elapsed:{}'.format(t1-t0))"
   ]
  },
  {
   "cell_type": "markdown",
   "metadata": {},
   "source": [
    "### Model XVI"
   ]
  },
  {
   "cell_type": "code",
   "execution_count": 151,
   "metadata": {
    "scrolled": true
   },
   "outputs": [
    {
     "name": "stdout",
     "output_type": "stream",
     "text": [
      "Epoch: [1/5], Step: [101/313], Validation Acc: 50.8\n",
      "Epoch: [1/5], Step: [201/313], Validation Acc: 51.46\n",
      "Epoch: [1/5], Step: [301/313], Validation Acc: 50.14\n",
      "Epoch: [2/5], Step: [101/313], Validation Acc: 62.98\n",
      "Epoch: [2/5], Step: [201/313], Validation Acc: 69.4\n",
      "Epoch: [2/5], Step: [301/313], Validation Acc: 73.7\n",
      "Epoch: [3/5], Step: [101/313], Validation Acc: 74.92\n",
      "Epoch: [3/5], Step: [201/313], Validation Acc: 72.8\n",
      "Epoch: [3/5], Step: [301/313], Validation Acc: 61.44\n",
      "Epoch: [4/5], Step: [101/313], Validation Acc: 74.04\n",
      "Epoch: [4/5], Step: [201/313], Validation Acc: 74.26\n",
      "Epoch: [4/5], Step: [301/313], Validation Acc: 74.84\n",
      "Epoch: [5/5], Step: [101/313], Validation Acc: 74.14\n",
      "Epoch: [5/5], Step: [201/313], Validation Acc: 66.7\n",
      "Epoch: [5/5], Step: [301/313], Validation Acc: 73.88\n",
      "Time Elapsed:684.9529981613159\n"
     ]
    }
   ],
   "source": [
    "t0 = time.time()\n",
    "trigram_val_acc_epochs_Adam_L_400 = []\n",
    "\n",
    "emb_dim = 400\n",
    "model = BagOfNGram(len(trigram_token2id_L),emb_dim)\n",
    "learning_rate = 0.01\n",
    "num_epochs = 5\n",
    "criterion = torch.nn.CrossEntropyLoss()\n",
    "optimizer = torch.optim.Adam(model.parameters(), lr=learning_rate)\n",
    "lambda1 = lambda epoch: 0.9 ** epoch\n",
    "scheduler =  torch.optim.lr_scheduler.LambdaLR(optimizer, lr_lambda=[lambda1])\n",
    "\n",
    "for epoch in range(num_epochs):\n",
    "    scheduler.step()\n",
    "    for i, (data, lengths, labels) in enumerate(tri_train_loader_L):\n",
    "        model.train()\n",
    "        data_batch, length_batch, label_batch = data, lengths, labels\n",
    "        optimizer.zero_grad()\n",
    "        outputs = model(data_batch, length_batch)\n",
    "        loss = criterion(outputs, label_batch)\n",
    "        loss.backward()\n",
    "        optimizer.step()\n",
    "\n",
    "        if i > 0 and i % 100 == 0:\n",
    "            val_acc = test_model(tri_val_loader_L, model)\n",
    "            trigram_val_acc_epochs_Adam_L_400.append(val_acc)\n",
    "            print('Epoch: [{}/{}], Step: [{}/{}], Validation Acc: {}'.format(epoch+1, num_epochs, i+1, len(tri_train_loader_L), val_acc))\n",
    "\n",
    "\n",
    "t1 = time.time()\n",
    "print('Time Elapsed:{}'.format(t1-t0))"
   ]
  },
  {
   "cell_type": "code",
   "execution_count": 186,
   "metadata": {},
   "outputs": [
    {
     "data": {
      "text/plain": [
       "Text(0,0.5,'Validation Accuracy')"
      ]
     },
     "execution_count": 186,
     "metadata": {},
     "output_type": "execute_result"
    },
    {
     "data": {
      "image/png": "[encoded data removed]",
      "text/plain": [
       "<Figure size 432x288 with 1 Axes>"
      ]
     },
     "metadata": {
      "needs_background": "light"
     },
     "output_type": "display_data"
    }
   ],
   "source": [
    "plt.plot(trigram_val_acc_epochs_Adam_L, marker='o', label='Emb dim=100')\n",
    "plt.plot(trigram_val_acc_epochs_Adam_L_200, marker='o', label='Emb dim=200')\n",
    "plt.plot(trigram_val_acc_epochs_Adam_L_400, marker='o', label='Emb dim=400')\n",
    "\n",
    "\n",
    "\n",
    "plt.legend(loc=4)\n",
    "plt.xticks([])\n",
    "plt.grid()\n",
    "plt.ylabel('Validation Accuracy')"
   ]
  },
  {
   "cell_type": "markdown",
   "metadata": {},
   "source": [
    "### Model XVII"
   ]
  },
  {
   "cell_type": "code",
   "execution_count": 174,
   "metadata": {},
   "outputs": [],
   "source": [
    "BATCH_SIZE_2 = 100\n",
    "tri_train_loader_new = torch.utils.data.DataLoader(dataset=tri_train_dataset_L, batch_size=BATCH_SIZE_2, collate_fn=collate_func,shuffle=True)\n",
    "\n",
    "tri_val_loader_new = torch.utils.data.DataLoader(dataset=tri_val_dataset_L, batch_size=BATCH_SIZE_2, collate_fn=collate_func,shuffle=True)\n",
    "\n",
    "tri_test_loader_new = torch.utils.data.DataLoader(dataset=tri_test_dataset_L, batch_size=BATCH_SIZE_2, collate_fn=collate_func,shuffle=True)"
   ]
  },
  {
   "cell_type": "code",
   "execution_count": 187,
   "metadata": {},
   "outputs": [
    {
     "name": "stdout",
     "output_type": "stream",
     "text": [
      "Epoch: [1/5], Step: [101/200], Validation Acc: 50.0\n",
      "Epoch: [2/5], Step: [101/200], Validation Acc: 61.4\n",
      "Epoch: [3/5], Step: [101/200], Validation Acc: 67.52\n",
      "Epoch: [4/5], Step: [101/200], Validation Acc: 75.02\n",
      "Epoch: [5/5], Step: [101/200], Validation Acc: 72.9\n",
      "Time Elapsed:210.5759699344635\n"
     ]
    }
   ],
   "source": [
    "t0 = time.time()\n",
    "trigram_val_acc_epochs_Adam_new = []\n",
    "\n",
    "emb_dim = 200\n",
    "model = BagOfNGram(len(trigram_token2id_L),emb_dim)\n",
    "learning_rate = 0.01\n",
    "num_epochs = 5\n",
    "criterion = torch.nn.CrossEntropyLoss()\n",
    "optimizer = torch.optim.Adam(model.parameters(), lr=learning_rate)\n",
    "lambda1 = lambda epoch: 0.90 ** epoch\n",
    "scheduler =  torch.optim.lr_scheduler.LambdaLR(optimizer, lr_lambda=[lambda1])\n",
    "\n",
    "for epoch in range(num_epochs):\n",
    "    scheduler.step()\n",
    "    for i, (data, lengths, labels) in enumerate(tri_train_loader_new):\n",
    "        model.train()\n",
    "        data_batch, length_batch, label_batch = data, lengths, labels\n",
    "        optimizer.zero_grad()\n",
    "        outputs = model(data_batch, length_batch)\n",
    "        loss = criterion(outputs, label_batch)\n",
    "        loss.backward()\n",
    "        optimizer.step()\n",
    "\n",
    "        if i > 0 and i % 100 == 0:\n",
    "            val_acc = test_model(tri_val_loader_new, model)\n",
    "            trigram_val_acc_epochs_Adam_new.append(val_acc)\n",
    "            print('Epoch: [{}/{}], Step: [{}/{}], Validation Acc: {}'.format(epoch+1, num_epochs, i+1, len(tri_train_loader_new), val_acc))\n",
    "\n",
    "\n",
    "\n",
    "t1 = time.time()\n",
    "print('Time Elapsed:{}'.format(t1-t0))"
   ]
  },
  {
   "cell_type": "markdown",
   "metadata": {},
   "source": [
    "### Model XVIII"
   ]
  },
  {
   "cell_type": "code",
   "execution_count": 176,
   "metadata": {},
   "outputs": [],
   "source": [
    "BATCH_SIZE_3 = 32\n",
    "tri_train_loader_new3 = torch.utils.data.DataLoader(dataset=tri_train_dataset_L, batch_size=BATCH_SIZE_3, collate_fn=collate_func,shuffle=True)\n",
    "\n",
    "tri_val_loader_new3 = torch.utils.data.DataLoader(dataset=tri_val_dataset_L, batch_size=BATCH_SIZE_3, collate_fn=collate_func,shuffle=True)\n",
    "\n",
    "tri_test_loader_new3 = torch.utils.data.DataLoader(dataset=tri_test_dataset_L, batch_size=BATCH_SIZE_3, collate_fn=collate_func,shuffle=True)"
   ]
  },
  {
   "cell_type": "code",
   "execution_count": 188,
   "metadata": {},
   "outputs": [
    {
     "name": "stdout",
     "output_type": "stream",
     "text": [
      "Epoch: [1/5], Step: [101/625], Validation Acc: 50.04\n",
      "Epoch: [1/5], Step: [201/625], Validation Acc: 51.06\n",
      "Epoch: [1/5], Step: [301/625], Validation Acc: 51.62\n",
      "Epoch: [1/5], Step: [401/625], Validation Acc: 50.02\n",
      "Epoch: [1/5], Step: [501/625], Validation Acc: 52.18\n",
      "Epoch: [1/5], Step: [601/625], Validation Acc: 50.86\n",
      "Epoch: [2/5], Step: [101/625], Validation Acc: 63.26\n",
      "Epoch: [2/5], Step: [201/625], Validation Acc: 71.08\n",
      "Epoch: [2/5], Step: [301/625], Validation Acc: 66.48\n",
      "Epoch: [2/5], Step: [401/625], Validation Acc: 61.64\n",
      "Epoch: [2/5], Step: [501/625], Validation Acc: 63.7\n",
      "Epoch: [2/5], Step: [601/625], Validation Acc: 73.42\n",
      "Epoch: [3/5], Step: [101/625], Validation Acc: 75.16\n",
      "Epoch: [3/5], Step: [201/625], Validation Acc: 73.78\n",
      "Epoch: [3/5], Step: [301/625], Validation Acc: 71.66\n",
      "Epoch: [3/5], Step: [401/625], Validation Acc: 73.46\n",
      "Epoch: [3/5], Step: [501/625], Validation Acc: 68.48\n",
      "Epoch: [3/5], Step: [601/625], Validation Acc: 72.8\n",
      "Epoch: [4/5], Step: [101/625], Validation Acc: 73.66\n",
      "Epoch: [4/5], Step: [201/625], Validation Acc: 74.06\n",
      "Epoch: [4/5], Step: [301/625], Validation Acc: 74.92\n",
      "Epoch: [4/5], Step: [401/625], Validation Acc: 54.74\n",
      "Epoch: [4/5], Step: [501/625], Validation Acc: 73.82\n",
      "Epoch: [4/5], Step: [601/625], Validation Acc: 73.26\n",
      "Epoch: [5/5], Step: [101/625], Validation Acc: 73.96\n",
      "Epoch: [5/5], Step: [201/625], Validation Acc: 73.92\n",
      "Epoch: [5/5], Step: [301/625], Validation Acc: 72.24\n",
      "Epoch: [5/5], Step: [401/625], Validation Acc: 74.76\n",
      "Epoch: [5/5], Step: [501/625], Validation Acc: 73.92\n",
      "Epoch: [5/5], Step: [601/625], Validation Acc: 67.44\n",
      "Time Elapsed:710.9702332019806\n"
     ]
    }
   ],
   "source": [
    "t0 = time.time()\n",
    "trigram_val_acc_epochs_Adam_new3 = []\n",
    "\n",
    "emb_dim = 200\n",
    "model = BagOfNGram(len(trigram_token2id_L),emb_dim)\n",
    "learning_rate = 0.01\n",
    "num_epochs = 5\n",
    "criterion = torch.nn.CrossEntropyLoss()\n",
    "optimizer = torch.optim.Adam(model.parameters(), lr=learning_rate)\n",
    "lambda1 = lambda epoch: 0.90 ** epoch\n",
    "scheduler =  torch.optim.lr_scheduler.LambdaLR(optimizer, lr_lambda=[lambda1])\n",
    "\n",
    "for epoch in range(num_epochs):\n",
    "    scheduler.step()\n",
    "    for i, (data, lengths, labels) in enumerate(tri_train_loader_new3):\n",
    "        model.train()\n",
    "        data_batch, length_batch, label_batch = data, lengths, labels\n",
    "        optimizer.zero_grad()\n",
    "        outputs = model(data_batch, length_batch)\n",
    "        loss = criterion(outputs, label_batch)\n",
    "        loss.backward()\n",
    "        optimizer.step()\n",
    "\n",
    "        if i > 0 and i % 100 == 0:\n",
    "            val_acc = test_model(tri_val_loader_new3, model)\n",
    "            trigram_val_acc_epochs_Adam_new3.append(val_acc)\n",
    "            print('Epoch: [{}/{}], Step: [{}/{}], Validation Acc: {}'.format(epoch+1, num_epochs, i+1, len(tri_train_loader_new3), val_acc))\n",
    "\n",
    "\n",
    "\n",
    "t1 = time.time()\n",
    "print('Time Elapsed:{}'.format(t1-t0))"
   ]
  },
  {
   "cell_type": "code",
   "execution_count": 192,
   "metadata": {},
   "outputs": [
    {
     "data": {
      "text/plain": [
       "Text(0,0.5,'Validation Accuracy')"
      ]
     },
     "execution_count": 192,
     "metadata": {},
     "output_type": "execute_result"
    },
    {
     "data": {
      "image/png": "[encoded data removed]",
      "text/plain": [
       "<Figure size 432x288 with 1 Axes>"
      ]
     },
     "metadata": {
      "needs_background": "light"
     },
     "output_type": "display_data"
    }
   ],
   "source": [
    "plt.plot(trigram_val_acc_epochs_Adam_L_200, marker='o', label='Batch Size = 64')\n",
    "plt.plot(trigram_val_acc_epochs_Adam_new, marker='o', label='Batch Size = 32')\n",
    "plt.plot(trigram_val_acc_epochs_Adam_new3, marker='o', label='Batch Size = 100')\n",
    "\n",
    "\n",
    "\n",
    "plt.legend(loc=4)\n",
    "plt.xticks([])\n",
    "plt.grid()\n",
    "plt.ylabel('Validation Accuracy')"
   ]
  },
  {
   "cell_type": "code",
   "execution_count": 249,
   "metadata": {},
   "outputs": [
    {
     "name": "stdout",
     "output_type": "stream",
     "text": [
      "3407133\n",
      "2679533\n",
      "295242\n"
     ]
    }
   ],
   "source": [
    "def count1s(dataset):\n",
    "    count = 0\n",
    "    for i in dataset:\n",
    "        count += i.count(1)\n",
    "    return count\n",
    "print(count1s(tri_train_data_indices))\n",
    "print(count1s(bi_train_data_indices))\n",
    "print(count1s(mono_train_data_indices))"
   ]
  },
  {
   "cell_type": "code",
   "execution_count": null,
   "metadata": {},
   "outputs": [],
   "source": []
  },
  {
   "cell_type": "code",
   "execution_count": null,
   "metadata": {},
   "outputs": [],
   "source": []
  },
  {
   "cell_type": "markdown",
   "metadata": {},
   "source": [
    "## Section 4 Bag of Quad-gram Model"
   ]
  },
  {
   "cell_type": "code",
   "execution_count": 105,
   "metadata": {},
   "outputs": [],
   "source": [
    "def quadgram_tokenize_plus(data):\n",
    "    token_dataset = []\n",
    "    quadgram_tokens = []\n",
    "    for i in data:\n",
    "        tokens = tokenize(i)\n",
    "        i_tokens = []\n",
    "        # remove stopwords and stemming\n",
    "        tokensFiltered = []\n",
    "        for words in tokens:\n",
    "            if str(words) not in Stopwords:\n",
    "                words = ps.stem(words)\n",
    "                tokensFiltered.append(words)\n",
    "        for j in range(len(tokensFiltered)-3):\n",
    "            quadtokens = (tokensFiltered[j], tokensFiltered[j+1], tokensFiltered[j+2],tokensFiltered[j+3])\n",
    "            quadgram_tokens.append(quadtokens)\n",
    "            i_tokens.append(quadtokens)   \n",
    "        token_dataset.append(i_tokens)\n",
    "    return token_dataset,quadgram_tokens"
   ]
  },
  {
   "cell_type": "code",
   "execution_count": 106,
   "metadata": {},
   "outputs": [],
   "source": [
    "\n",
    "quad_train_data_tokens, quadgram_tokens = quadgram_tokenize_plus(train_data)\n",
    "quad_val_data_tokens, _ = quadgram_tokenize_plus(val_data)\n",
    "quad_test_data_tokens, _ = quadgram_tokenize_plus(test_data)\n",
    "\n",
    "os.chdir(datadir)\n",
    "pkl.dump(quad_train_data_tokens, open(\"quad_train_data_tokens_plus.p\", \"wb\"))\n",
    "pkl.dump(quadgram_tokens, open(\"quadgram_tokens_plus.p\", \"wb\"))\n",
    "pkl.dump(quad_val_data_tokens, open(\"quad_val_data_tokens_plus.p\", \"wb\"))\n",
    "pkl.dump(quad_test_data_tokens, open(\"quad_test_data_tokens_plus.p\", \"wb\"))\n"
   ]
  },
  {
   "cell_type": "markdown",
   "metadata": {},
   "source": [
    "### Model XIX"
   ]
  },
  {
   "cell_type": "code",
   "execution_count": 138,
   "metadata": {},
   "outputs": [],
   "source": [
    "quadgram_token2id, quadgram_vocab = build_vocab(quadgram_tokens, max_vocab_size_1)\n",
    "quad_train_data_indices = indices_dataset(quad_train_data_tokens, quadgram_token2id)\n",
    "quad_val_data_indices = indices_dataset(quad_val_data_tokens, quadgram_token2id)\n",
    "quad_test_data_indices = indices_dataset(quad_test_data_tokens, quadgram_token2id)\n",
    "\n",
    "quad_train_dataset = aclImdbDataset(quad_train_data_indices, train_target)\n",
    "quad_train_loader = torch.utils.data.DataLoader(dataset=quad_train_dataset, batch_size=BATCH_SIZE, collate_fn=collate_func,shuffle=True)\n",
    "\n",
    "quad_val_dataset = aclImdbDataset(quad_val_data_indices, val_target)\n",
    "quad_val_loader = torch.utils.data.DataLoader(dataset=quad_val_dataset, batch_size=BATCH_SIZE, collate_fn=collate_func,shuffle=True)\n",
    "\n",
    "quad_test_dataset = aclImdbDataset(quad_test_data_indices, test_target)\n",
    "quad_test_loader = torch.utils.data.DataLoader(dataset=quad_test_dataset, batch_size=BATCH_SIZE, collate_fn=collate_func,shuffle=True)"
   ]
  },
  {
   "cell_type": "code",
   "execution_count": 163,
   "metadata": {},
   "outputs": [
    {
     "name": "stdout",
     "output_type": "stream",
     "text": [
      "Epoch: [1/5], Step: [101/313], Validation Acc: 50.46\n",
      "Epoch: [1/5], Step: [201/313], Validation Acc: 50.0\n",
      "Epoch: [1/5], Step: [301/313], Validation Acc: 50.0\n",
      "Epoch: [2/5], Step: [101/313], Validation Acc: 50.28\n",
      "Epoch: [2/5], Step: [201/313], Validation Acc: 50.82\n",
      "Epoch: [2/5], Step: [301/313], Validation Acc: 52.4\n",
      "Epoch: [3/5], Step: [101/313], Validation Acc: 53.64\n",
      "Epoch: [3/5], Step: [201/313], Validation Acc: 51.08\n",
      "Epoch: [3/5], Step: [301/313], Validation Acc: 51.96\n",
      "Epoch: [4/5], Step: [101/313], Validation Acc: 54.06\n",
      "Epoch: [4/5], Step: [201/313], Validation Acc: 53.92\n",
      "Epoch: [4/5], Step: [301/313], Validation Acc: 55.62\n",
      "Epoch: [5/5], Step: [101/313], Validation Acc: 59.56\n",
      "Epoch: [5/5], Step: [201/313], Validation Acc: 53.08\n",
      "Epoch: [5/5], Step: [301/313], Validation Acc: 56.54\n",
      "Time elapse: 74.06398415565491\n"
     ]
    }
   ],
   "source": [
    "t0 = time.time()\n",
    "quadgram_val_acc_epochs_Adam_01 = []\n",
    "\n",
    "emb_dim = 100\n",
    "model = BagOfNGram(len(quadgram_token2id),emb_dim)\n",
    "learning_rate = 0.01\n",
    "num_epochs = 5\n",
    "criterion = torch.nn.CrossEntropyLoss()\n",
    "optimizer = torch.optim.Adam(model.parameters(), lr=learning_rate)\n",
    "lambda1 = lambda epoch: 0.90 ** epoch\n",
    "scheduler =  torch.optim.lr_scheduler.LambdaLR(optimizer, lr_lambda=[lambda1])\n",
    "\n",
    "for epoch in range(num_epochs):\n",
    "    scheduler.step()\n",
    "    for i, (data, lengths, labels) in enumerate(quad_train_loader):\n",
    "        model.train()\n",
    "        data_batch, length_batch, label_batch = data, lengths, labels\n",
    "        optimizer.zero_grad()\n",
    "        outputs = model(data_batch, length_batch)\n",
    "        loss = criterion(outputs, label_batch)\n",
    "        loss.backward()\n",
    "        optimizer.step()\n",
    "\n",
    "        if i > 0 and i % 100 == 0:\n",
    "            val_acc = test_model(quad_val_loader, model)\n",
    "            quadgram_val_acc_epochs_Adam_01.append(val_acc)\n",
    "            print('Epoch: [{}/{}], Step: [{}/{}], Validation Acc: {}'.format(epoch+1, num_epochs, i+1, len(quad_train_loader), val_acc))\n",
    "\n",
    "\n",
    "t1 = time.time()\n",
    "print ('Time elapse: {}'.format(t1-t0))\n"
   ]
  },
  {
   "cell_type": "markdown",
   "metadata": {},
   "source": [
    "### Model XX"
   ]
  },
  {
   "cell_type": "code",
   "execution_count": 181,
   "metadata": {},
   "outputs": [],
   "source": [
    "quadgram_token2id_L, quadgram_vocab_L = build_vocab(quadgram_tokens, max_vocab_size_1*16)\n",
    "\n",
    "quad_train_data_indices_L = indices_dataset(quad_train_data_tokens, quadgram_token2id_L)\n",
    "quad_val_data_indices_L = indices_dataset(quad_val_data_tokens, quadgram_token2id_L)\n",
    "quad_test_data_indices_L = indices_dataset(quad_test_data_tokens, quadgram_token2id_L)\n",
    "\n",
    "quad_train_dataset_L = aclImdbDataset(quad_train_data_indices_L, train_target)\n",
    "quad_train_loader_L = torch.utils.data.DataLoader(dataset=quad_train_dataset_L, batch_size=BATCH_SIZE, collate_fn=collate_func,shuffle=True)\n",
    "\n",
    "quad_val_dataset_L = aclImdbDataset(quad_val_data_indices_L, val_target)\n",
    "quad_val_loader_L = torch.utils.data.DataLoader(dataset=quad_val_dataset_L, batch_size=BATCH_SIZE, collate_fn=collate_func,shuffle=True)\n",
    "\n",
    "quad_test_dataset_L = aclImdbDataset(quad_test_data_indices_L, test_target)\n",
    "quad_test_loader_L = torch.utils.data.DataLoader(dataset=quad_test_dataset_L, batch_size=BATCH_SIZE, collate_fn=collate_func,shuffle=True)"
   ]
  },
  {
   "cell_type": "code",
   "execution_count": 189,
   "metadata": {},
   "outputs": [
    {
     "name": "stdout",
     "output_type": "stream",
     "text": [
      "Epoch: [1/5], Step: [101/313], Validation Acc: 51.34\n",
      "Epoch: [1/5], Step: [201/313], Validation Acc: 50.02\n",
      "Epoch: [1/5], Step: [301/313], Validation Acc: 50.04\n",
      "Epoch: [2/5], Step: [101/313], Validation Acc: 50.18\n",
      "Epoch: [2/5], Step: [201/313], Validation Acc: 51.44\n",
      "Epoch: [2/5], Step: [301/313], Validation Acc: 52.18\n",
      "Epoch: [3/5], Step: [101/313], Validation Acc: 52.66\n",
      "Epoch: [3/5], Step: [201/313], Validation Acc: 51.66\n",
      "Epoch: [3/5], Step: [301/313], Validation Acc: 52.34\n",
      "Epoch: [4/5], Step: [101/313], Validation Acc: 58.66\n",
      "Epoch: [4/5], Step: [201/313], Validation Acc: 56.82\n",
      "Epoch: [4/5], Step: [301/313], Validation Acc: 56.52\n",
      "Epoch: [5/5], Step: [101/313], Validation Acc: 59.04\n",
      "Epoch: [5/5], Step: [201/313], Validation Acc: 60.52\n",
      "Epoch: [5/5], Step: [301/313], Validation Acc: 54.72\n",
      "Time elapse: 1166.212280035019\n"
     ]
    }
   ],
   "source": [
    "t0 = time.time()\n",
    "quadgram_val_acc_epochs_Adam_01_L = []\n",
    "\n",
    "emb_dim = 400\n",
    "model = BagOfNGram(len(quadgram_token2id_L),emb_dim)\n",
    "learning_rate = 0.01\n",
    "num_epochs = 5\n",
    "criterion = torch.nn.CrossEntropyLoss()\n",
    "optimizer = torch.optim.Adam(model.parameters(), lr=learning_rate)\n",
    "lambda1 = lambda epoch: 0.90 ** epoch\n",
    "scheduler =  torch.optim.lr_scheduler.LambdaLR(optimizer, lr_lambda=[lambda1])\n",
    "\n",
    "for epoch in range(num_epochs):\n",
    "    scheduler.step()\n",
    "    for i, (data, lengths, labels) in enumerate(quad_train_loader_L):\n",
    "        model.train()\n",
    "        data_batch, length_batch, label_batch = data, lengths, labels\n",
    "        optimizer.zero_grad()\n",
    "        outputs = model(data_batch, length_batch)\n",
    "        loss = criterion(outputs, label_batch)\n",
    "        loss.backward()\n",
    "        optimizer.step()\n",
    "\n",
    "        if i > 0 and i % 100 == 0:\n",
    "            val_acc = test_model(quad_val_loader_L, model)\n",
    "            quadgram_val_acc_epochs_Adam_01_L.append(val_acc)\n",
    "            print('Epoch: [{}/{}], Step: [{}/{}], Validation Acc: {}'.format(epoch+1, num_epochs, i+1, len(quad_train_loader_L), val_acc))\n",
    "\n",
    "t1 = time.time()\n",
    "print ('Time elapse: {}'.format(t1-t0))\n",
    "\n",
    "\n",
    "\n",
    "\n"
   ]
  },
  {
   "cell_type": "code",
   "execution_count": 191,
   "metadata": {},
   "outputs": [
    {
     "data": {
      "text/plain": [
       "Text(0,0.5,'Validation Accuracy')"
      ]
     },
     "execution_count": 191,
     "metadata": {},
     "output_type": "execute_result"
    },
    {
     "data": {
      "image/png": "[encoded data removed]",
      "text/plain": [
       "<Figure size 432x288 with 1 Axes>"
      ]
     },
     "metadata": {
      "needs_background": "light"
     },
     "output_type": "display_data"
    }
   ],
   "source": [
    "plt.plot(quadgram_val_acc_epochs_Adam_01, marker='o', label='Vocab Size = 10K')\n",
    "plt.plot(quadgram_val_acc_epochs_Adam_01_L, marker='o', label='Vocab Size = 160K')\n",
    "\n",
    "\n",
    "\n",
    "\n",
    "plt.legend(loc=4)\n",
    "plt.xticks([])\n",
    "plt.grid()\n",
    "plt.ylabel('Validation Accuracy')"
   ]
  },
  {
   "cell_type": "markdown",
   "metadata": {},
   "source": [
    "### Model XXI"
   ]
  },
  {
   "cell_type": "code",
   "execution_count": 165,
   "metadata": {},
   "outputs": [],
   "source": [
    "\n",
    "quad_train_data_indices_L = indices_dataset(quad_train_data_tokens, quadgram_token2id_L)\n",
    "quad_val_data_indices_L = indices_dataset(quad_val_data_tokens, quadgram_token2id_L)\n",
    "quad_test_data_indices_L = indices_dataset(quad_test_data_tokens, quadgram_token2id_L)\n",
    "\n",
    "quad_train_dataset_L = aclImdbDataset(quad_train_data_indices_L, train_target)\n",
    "quad_train_loader_new = torch.utils.data.DataLoader(dataset=quad_train_dataset_L, batch_size=BATCH_SIZE_2, collate_fn=collate_func,shuffle=True)\n",
    "\n",
    "quad_val_dataset_L = aclImdbDataset(quad_val_data_indices_L, val_target)\n",
    "quad_val_loader_new = torch.utils.data.DataLoader(dataset=quad_val_dataset_L, batch_size=BATCH_SIZE_2, collate_fn=collate_func,shuffle=True)\n",
    "\n",
    "quad_test_dataset_L = aclImdbDataset(quad_test_data_indices_L, test_target)\n",
    "quad_test_loader_new = torch.utils.data.DataLoader(dataset=quad_test_dataset_L, batch_size=BATCH_SIZE_2, collate_fn=collate_func,shuffle=True)"
   ]
  },
  {
   "cell_type": "code",
   "execution_count": 169,
   "metadata": {},
   "outputs": [
    {
     "name": "stdout",
     "output_type": "stream",
     "text": [
      "Epoch: [1/5], Step: [101/200], Validation Acc: 50.96\n",
      "Epoch: [2/5], Step: [101/200], Validation Acc: 50.02\n",
      "Epoch: [3/5], Step: [101/200], Validation Acc: 50.2\n",
      "Epoch: [4/5], Step: [101/200], Validation Acc: 58.82\n",
      "Epoch: [5/5], Step: [101/200], Validation Acc: 59.64\n",
      "Time elapse: 780.3370809555054\n"
     ]
    }
   ],
   "source": [
    "t0 = time.time()\n",
    "quadgram_val_acc_epochs_Adam_01_L_new = []\n",
    "\n",
    "emb_dim = 400\n",
    "model = BagOfNGram(len(quadgram_token2id_L),emb_dim)\n",
    "learning_rate = 0.01\n",
    "num_epochs = 5\n",
    "criterion = torch.nn.CrossEntropyLoss()\n",
    "optimizer = torch.optim.Adam(model.parameters(), lr=learning_rate)\n",
    "lambda1 = lambda epoch: 0.90 ** epoch\n",
    "scheduler =  torch.optim.lr_scheduler.LambdaLR(optimizer, lr_lambda=[lambda1])\n",
    "\n",
    "for epoch in range(num_epochs):\n",
    "    scheduler.step()\n",
    "    for i, (data, lengths, labels) in enumerate(quad_train_loader_new):\n",
    "        model.train()\n",
    "        data_batch, length_batch, label_batch = data, lengths, labels\n",
    "        optimizer.zero_grad()\n",
    "        outputs = model(data_batch, length_batch)\n",
    "        loss = criterion(outputs, label_batch)\n",
    "        loss.backward()\n",
    "        optimizer.step()\n",
    "\n",
    "        if i > 0 and i % 100 == 0:\n",
    "            val_acc = test_model(quad_val_loader_new, model)\n",
    "            quadgram_val_acc_epochs_Adam_01_L_new.append(val_acc)\n",
    "            print('Epoch: [{}/{}], Step: [{}/{}], Validation Acc: {}'.format(epoch+1, num_epochs, i+1, len(quad_train_loader_new), val_acc))\n",
    "\n",
    "t1 = time.time()\n",
    "print ('Time elapse: {}'.format(t1-t0))\n",
    "\n",
    "\n"
   ]
  },
  {
   "cell_type": "markdown",
   "metadata": {},
   "source": [
    "### Model XXII"
   ]
  },
  {
   "cell_type": "code",
   "execution_count": 172,
   "metadata": {},
   "outputs": [],
   "source": [
    "quadgram_token2id_L, quadgram_vocab_L = build_vocab(quadgram_tokens, max_vocab_size_1*16)\n",
    "quad_train_data_indices_L = indices_dataset(quad_train_data_tokens, quadgram_token2id_L)\n",
    "quad_val_data_indices_L = indices_dataset(quad_val_data_tokens, quadgram_token2id_L)\n",
    "quad_test_data_indices_L = indices_dataset(quad_test_data_tokens, quadgram_token2id_L)\n",
    "\n",
    "quad_train_dataset_L = aclImdbDataset(quad_train_data_indices_L, train_target)\n",
    "quad_train_loader_new3 = torch.utils.data.DataLoader(dataset=quad_train_dataset_L, batch_size=BATCH_SIZE_2, collate_fn=collate_func,shuffle=True)\n",
    "\n",
    "quad_val_dataset_L = aclImdbDataset(quad_val_data_indices_L, val_target)\n",
    "quad_val_loader_new3 = torch.utils.data.DataLoader(dataset=quad_val_dataset_L, batch_size=BATCH_SIZE_2, collate_fn=collate_func,shuffle=True)\n",
    "\n",
    "quad_test_dataset_L = aclImdbDataset(quad_test_data_indices_L, test_target)\n",
    "quad_test_loader_new3 = torch.utils.data.DataLoader(dataset=quad_test_dataset_L, batch_size=BATCH_SIZE_2, collate_fn=collate_func,shuffle=True)"
   ]
  },
  {
   "cell_type": "code",
   "execution_count": 171,
   "metadata": {},
   "outputs": [
    {
     "name": "stdout",
     "output_type": "stream",
     "text": [
      "Epoch: [1/5], Step: [101/625], Validation Acc: 50.0\n",
      "Epoch: [1/5], Step: [201/625], Validation Acc: 50.02\n",
      "Epoch: [1/5], Step: [301/625], Validation Acc: 50.0\n",
      "Epoch: [1/5], Step: [401/625], Validation Acc: 49.36\n",
      "Epoch: [1/5], Step: [501/625], Validation Acc: 50.84\n",
      "Epoch: [1/5], Step: [601/625], Validation Acc: 50.06\n",
      "Epoch: [2/5], Step: [101/625], Validation Acc: 51.24\n",
      "Epoch: [2/5], Step: [201/625], Validation Acc: 51.16\n",
      "Epoch: [2/5], Step: [301/625], Validation Acc: 51.4\n",
      "Epoch: [2/5], Step: [401/625], Validation Acc: 52.84\n",
      "Epoch: [2/5], Step: [501/625], Validation Acc: 50.88\n",
      "Epoch: [2/5], Step: [601/625], Validation Acc: 53.16\n",
      "Epoch: [3/5], Step: [101/625], Validation Acc: 52.5\n",
      "Epoch: [3/5], Step: [201/625], Validation Acc: 54.78\n",
      "Epoch: [3/5], Step: [301/625], Validation Acc: 51.98\n",
      "Epoch: [3/5], Step: [401/625], Validation Acc: 53.38\n",
      "Epoch: [3/5], Step: [501/625], Validation Acc: 58.56\n",
      "Epoch: [3/5], Step: [601/625], Validation Acc: 55.44\n",
      "Epoch: [4/5], Step: [101/625], Validation Acc: 56.46\n",
      "Epoch: [4/5], Step: [201/625], Validation Acc: 57.6\n",
      "Epoch: [4/5], Step: [301/625], Validation Acc: 58.58\n",
      "Epoch: [4/5], Step: [401/625], Validation Acc: 58.28\n",
      "Epoch: [4/5], Step: [501/625], Validation Acc: 56.34\n",
      "Epoch: [4/5], Step: [601/625], Validation Acc: 57.08\n",
      "Epoch: [5/5], Step: [101/625], Validation Acc: 59.12\n",
      "Epoch: [5/5], Step: [201/625], Validation Acc: 59.14\n",
      "Epoch: [5/5], Step: [301/625], Validation Acc: 58.04\n",
      "Epoch: [5/5], Step: [401/625], Validation Acc: 60.64\n",
      "Epoch: [5/5], Step: [501/625], Validation Acc: 59.88\n",
      "Epoch: [5/5], Step: [601/625], Validation Acc: 58.26\n",
      "Time elapse: 3885.9218969345093\n"
     ]
    }
   ],
   "source": [
    "t0 = time.time()\n",
    "quadgram_val_acc_epochs_Adam_01_L_new3 = []\n",
    "\n",
    "emb_dim = 400\n",
    "model = BagOfNGram(len(quadgram_token2id_L),emb_dim)\n",
    "learning_rate = 0.01\n",
    "num_epochs = 5\n",
    "criterion = torch.nn.CrossEntropyLoss()\n",
    "optimizer = torch.optim.Adam(model.parameters(), lr=learning_rate)\n",
    "lambda1 = lambda epoch: 0.90 ** epoch\n",
    "scheduler =  torch.optim.lr_scheduler.LambdaLR(optimizer, lr_lambda=[lambda1])\n",
    "\n",
    "for epoch in range(num_epochs):\n",
    "    scheduler.step()\n",
    "    for i, (data, lengths, labels) in enumerate(quad_train_loader_new3):\n",
    "        model.train()\n",
    "        data_batch, length_batch, label_batch = data, lengths, labels\n",
    "        optimizer.zero_grad()\n",
    "        outputs = model(data_batch, length_batch)\n",
    "        loss = criterion(outputs, label_batch)\n",
    "        loss.backward()\n",
    "        optimizer.step()\n",
    "\n",
    "        if i > 0 and i % 100 == 0:\n",
    "            val_acc = test_model(quad_val_loader_new3, model)\n",
    "            quadgram_val_acc_epochs_Adam_01_L_new3.append(val_acc)\n",
    "            print('Epoch: [{}/{}], Step: [{}/{}], Validation Acc: {}'.format(epoch+1, num_epochs, i+1, len(quad_train_loader_new3), val_acc))\n",
    "\n",
    "t1 = time.time()\n",
    "print ('Time elapse: {}'.format(t1-t0))\n",
    "\n",
    "\n",
    "\n"
   ]
  },
  {
   "cell_type": "code",
   "execution_count": 190,
   "metadata": {},
   "outputs": [
    {
     "data": {
      "text/plain": [
       "Text(0,0.5,'Validation Accuracy')"
      ]
     },
     "execution_count": 190,
     "metadata": {},
     "output_type": "execute_result"
    },
    {
     "data": {
      "image/png": "[encoded data removed]",
      "text/plain": [
       "<Figure size 432x288 with 1 Axes>"
      ]
     },
     "metadata": {
      "needs_background": "light"
     },
     "output_type": "display_data"
    }
   ],
   "source": [
    "plt.plot(quadgram_val_acc_epochs_Adam_01_L, marker='o', label='Batch Size = 64')\n",
    "plt.plot(quadgram_val_acc_epochs_Adam_01_L_new, marker='o', label='Batch Size = 32')\n",
    "plt.plot(quadgram_val_acc_epochs_Adam_01_L_new3, marker='o', label='Batch Size = 100')\n",
    "\n",
    "\n",
    "\n",
    "plt.legend(loc=4)\n",
    "plt.xticks([])\n",
    "plt.grid()\n",
    "plt.ylabel('Validation Accuracy')"
   ]
  },
  {
   "cell_type": "markdown",
   "metadata": {},
   "source": [
    "## Deployment for Model IX on the Test Set"
   ]
  },
  {
   "cell_type": "code",
   "execution_count": 215,
   "metadata": {},
   "outputs": [
    {
     "name": "stdout",
     "output_type": "stream",
     "text": [
      "Test Set Accuracy: 86.044\n"
     ]
    }
   ],
   "source": [
    "print('Test Set Accuracy: {}'.format(test_model(mono_test_loader_plus, model)))"
   ]
  },
  {
   "cell_type": "markdown",
   "metadata": {},
   "source": [
    "## Section 5 Bonus"
   ]
  },
  {
   "cell_type": "markdown",
   "metadata": {},
   "source": [
    "## Model XXIII"
   ]
  },
  {
   "cell_type": "code",
   "execution_count": 221,
   "metadata": {},
   "outputs": [],
   "source": [
    "BATCH_SIZE = 64\n",
    "mono_train_scoredataset = aclImdbDataset(mono_train_data_indices, train_scoretarget)\n",
    "mono_train_scoreloader = torch.utils.data.DataLoader(dataset=mono_train_scoredataset, batch_size=BATCH_SIZE, collate_fn=collate_func,shuffle=True)\n",
    "\n",
    "mono_val_scoredataset = aclImdbDataset(mono_val_data_indices, val_scoretarget)\n",
    "mono_val_scoreloader = torch.utils.data.DataLoader(dataset=mono_val_scoredataset, batch_size=BATCH_SIZE, collate_fn=collate_func,shuffle=True)\n",
    "\n",
    "mono_test_scoredataset = aclImdbDataset(mono_test_data_indices, test_scoretarget)\n",
    "mono_test_scoreloader = torch.utils.data.DataLoader(dataset=mono_test_scoredataset, batch_size=BATCH_SIZE, collate_fn=collate_func,shuffle=True)"
   ]
  },
  {
   "cell_type": "code",
   "execution_count": 222,
   "metadata": {},
   "outputs": [
    {
     "name": "stdout",
     "output_type": "stream",
     "text": [
      "Epoch: [1/6], Step: [101/313], Validation Acc: 22.64\n",
      "Epoch: [1/6], Step: [201/313], Validation Acc: 33.36\n",
      "Epoch: [1/6], Step: [301/313], Validation Acc: 36.8\n",
      "Epoch: [2/6], Step: [101/313], Validation Acc: 38.54\n",
      "Epoch: [2/6], Step: [201/313], Validation Acc: 39.92\n",
      "Epoch: [2/6], Step: [301/313], Validation Acc: 39.3\n",
      "Epoch: [3/6], Step: [101/313], Validation Acc: 40.7\n",
      "Epoch: [3/6], Step: [201/313], Validation Acc: 40.26\n",
      "Epoch: [3/6], Step: [301/313], Validation Acc: 40.74\n",
      "Epoch: [4/6], Step: [101/313], Validation Acc: 40.16\n",
      "Epoch: [4/6], Step: [201/313], Validation Acc: 39.12\n",
      "Epoch: [4/6], Step: [301/313], Validation Acc: 39.52\n",
      "Epoch: [5/6], Step: [101/313], Validation Acc: 39.22\n",
      "Epoch: [5/6], Step: [201/313], Validation Acc: 39.16\n",
      "Epoch: [5/6], Step: [301/313], Validation Acc: 38.52\n",
      "Epoch: [6/6], Step: [101/313], Validation Acc: 39.74\n",
      "Epoch: [6/6], Step: [201/313], Validation Acc: 39.24\n",
      "Epoch: [6/6], Step: [301/313], Validation Acc: 37.3\n",
      "Time Elapsed: 98.40795302391052\n"
     ]
    }
   ],
   "source": [
    "t0 = time.time()\n",
    "scoreval_acc_epochs_Adam_1 = []\n",
    "\n",
    "emb_dim = 100\n",
    "model = BagOfNGram(len(BOW_token2id),emb_dim)\n",
    "learning_rate = 0.01\n",
    "num_epochs = 6\n",
    "criterion = torch.nn.CrossEntropyLoss()\n",
    "optimizer = torch.optim.Adam(model.parameters(), lr=learning_rate)\n",
    "\n",
    "\n",
    "for epoch in range(num_epochs):\n",
    "    for i, (data, lengths, labels) in enumerate(mono_train_scoreloader):\n",
    "        model.train()\n",
    "        data_batch, length_batch, label_batch = data, lengths, labels\n",
    "        optimizer.zero_grad()\n",
    "        outputs = model(data_batch, length_batch)\n",
    "        loss = criterion(outputs, label_batch)\n",
    "        loss.backward()\n",
    "        optimizer.step()\n",
    "\n",
    "        if i > 0 and i % 100 == 0:\n",
    "            val_acc = test_model(mono_val_scoreloader, model)\n",
    "            scoreval_acc_epochs_Adam_1.append(val_acc)\n",
    "            print('Epoch: [{}/{}], Step: [{}/{}], Validation Acc: {}'.format(epoch+1, num_epochs, i+1, len(mono_train_scoreloader), val_acc))\n",
    "\n",
    "t1 = time.time()\n",
    "print('Time Elapsed: {}'.format(t1-t0))\n",
    "\n"
   ]
  },
  {
   "cell_type": "markdown",
   "metadata": {},
   "source": [
    "## Model XXIV"
   ]
  },
  {
   "cell_type": "code",
   "execution_count": 223,
   "metadata": {},
   "outputs": [],
   "source": [
    "\n",
    "\n",
    "BATCH_SIZE_2 = 32\n",
    "\n",
    "mono_train_scoreloader_new = torch.utils.data.DataLoader(dataset=mono_train_scoredataset, batch_size=BATCH_SIZE_2, collate_fn=collate_func,shuffle=True)\n",
    "mono_val_scoreloader_new = torch.utils.data.DataLoader(dataset=mono_val_scoredataset, batch_size=BATCH_SIZE_2, collate_fn=collate_func,shuffle=True)\n",
    "mono_test_scoreloader_new = torch.utils.data.DataLoader(dataset=mono_test_scoredataset, batch_size=BATCH_SIZE_2, collate_fn=collate_func,shuffle=True)"
   ]
  },
  {
   "cell_type": "code",
   "execution_count": 224,
   "metadata": {},
   "outputs": [
    {
     "name": "stdout",
     "output_type": "stream",
     "text": [
      "Epoch: [1/6], Step: [101/625], Validation Acc: 25.72\n",
      "Epoch: [1/6], Step: [201/625], Validation Acc: 32.46\n",
      "Epoch: [1/6], Step: [301/625], Validation Acc: 36.06\n",
      "Epoch: [1/6], Step: [401/625], Validation Acc: 37.34\n",
      "Epoch: [1/6], Step: [501/625], Validation Acc: 36.6\n",
      "Epoch: [1/6], Step: [601/625], Validation Acc: 38.9\n",
      "Epoch: [2/6], Step: [101/625], Validation Acc: 39.32\n",
      "Epoch: [2/6], Step: [201/625], Validation Acc: 39.54\n",
      "Epoch: [2/6], Step: [301/625], Validation Acc: 39.72\n",
      "Epoch: [2/6], Step: [401/625], Validation Acc: 41.16\n",
      "Epoch: [2/6], Step: [501/625], Validation Acc: 41.16\n",
      "Epoch: [2/6], Step: [601/625], Validation Acc: 40.56\n",
      "Epoch: [3/6], Step: [101/625], Validation Acc: 40.76\n",
      "Epoch: [3/6], Step: [201/625], Validation Acc: 40.98\n",
      "Epoch: [3/6], Step: [301/625], Validation Acc: 40.66\n",
      "Epoch: [3/6], Step: [401/625], Validation Acc: 40.52\n",
      "Epoch: [3/6], Step: [501/625], Validation Acc: 40.06\n",
      "Epoch: [3/6], Step: [601/625], Validation Acc: 39.74\n",
      "Epoch: [4/6], Step: [101/625], Validation Acc: 40.46\n",
      "Epoch: [4/6], Step: [201/625], Validation Acc: 40.46\n",
      "Epoch: [4/6], Step: [301/625], Validation Acc: 39.84\n",
      "Epoch: [4/6], Step: [401/625], Validation Acc: 39.04\n",
      "Epoch: [4/6], Step: [501/625], Validation Acc: 39.16\n",
      "Epoch: [4/6], Step: [601/625], Validation Acc: 38.54\n",
      "Epoch: [5/6], Step: [101/625], Validation Acc: 38.38\n",
      "Epoch: [5/6], Step: [201/625], Validation Acc: 38.06\n",
      "Epoch: [5/6], Step: [301/625], Validation Acc: 37.8\n",
      "Epoch: [5/6], Step: [401/625], Validation Acc: 38.2\n",
      "Epoch: [5/6], Step: [501/625], Validation Acc: 38.36\n",
      "Epoch: [5/6], Step: [601/625], Validation Acc: 36.7\n",
      "Epoch: [6/6], Step: [101/625], Validation Acc: 35.44\n",
      "Epoch: [6/6], Step: [201/625], Validation Acc: 37.62\n",
      "Epoch: [6/6], Step: [301/625], Validation Acc: 37.18\n",
      "Epoch: [6/6], Step: [401/625], Validation Acc: 37.14\n",
      "Epoch: [6/6], Step: [501/625], Validation Acc: 35.82\n",
      "Epoch: [6/6], Step: [601/625], Validation Acc: 36.58\n",
      "Time Elapsed: 115.32670211791992\n"
     ]
    }
   ],
   "source": [
    "t0 = time.time()\n",
    "scoreval_acc_epochs_Adam_1_new = []\n",
    "\n",
    "emb_dim = 100\n",
    "model = BagOfNGram(len(BOW_token2id),emb_dim)\n",
    "learning_rate = 0.01\n",
    "num_epochs = 6\n",
    "criterion = torch.nn.CrossEntropyLoss()\n",
    "optimizer = torch.optim.Adam(model.parameters(), lr=learning_rate)\n",
    "\n",
    "\n",
    "for epoch in range(num_epochs):\n",
    "    for i, (data, lengths, labels) in enumerate(mono_train_scoreloader_new):\n",
    "        model.train()\n",
    "        data_batch, length_batch, label_batch = data, lengths, labels\n",
    "        optimizer.zero_grad()\n",
    "        outputs = model(data_batch, length_batch)\n",
    "        loss = criterion(outputs, label_batch)\n",
    "        loss.backward()\n",
    "        optimizer.step()\n",
    "\n",
    "        if i > 0 and i % 100 == 0:\n",
    "            val_acc = test_model(mono_val_scoreloader_new, model)\n",
    "            scoreval_acc_epochs_Adam_1_new.append(val_acc)\n",
    "            print('Epoch: [{}/{}], Step: [{}/{}], Validation Acc: {}'.format(epoch+1, num_epochs, i+1, len(mono_train_scoreloader_new), val_acc))\n",
    "\n",
    "t1 = time.time()\n",
    "print('Time Elapsed: {}'.format(t1-t0))\n",
    "\n",
    "\n"
   ]
  },
  {
   "cell_type": "markdown",
   "metadata": {},
   "source": [
    "### Model XXV"
   ]
  },
  {
   "cell_type": "code",
   "execution_count": 225,
   "metadata": {},
   "outputs": [],
   "source": [
    "mono_train_scoredataset_L = aclImdbDataset(mono_train_data_indices_L, train_scoretarget)\n",
    "mono_train_scoreloader_L = torch.utils.data.DataLoader(dataset=mono_train_scoredataset_L, batch_size=BATCH_SIZE, collate_fn=collate_func,shuffle=True)\n",
    "\n",
    "mono_val_scoredataset_L = aclImdbDataset(mono_val_data_indices_L, val_scoretarget)\n",
    "mono_val_scoreloader_L = torch.utils.data.DataLoader(dataset=mono_val_scoredataset_L, batch_size=BATCH_SIZE, collate_fn=collate_func,shuffle=True)\n",
    "\n",
    "mono_test_scoredataset_L = aclImdbDataset(mono_test_data_indices_L, test_scoretarget)\n",
    "mono_test_scoreloader_L = torch.utils.data.DataLoader(dataset=mono_test_scoredataset_L, batch_size=BATCH_SIZE, collate_fn=collate_func,shuffle=True)"
   ]
  },
  {
   "cell_type": "code",
   "execution_count": 226,
   "metadata": {},
   "outputs": [
    {
     "name": "stdout",
     "output_type": "stream",
     "text": [
      "Epoch: [1/10], Step: [101/313], Validation Acc: 30.28\n",
      "Epoch: [1/10], Step: [201/313], Validation Acc: 33.38\n",
      "Epoch: [1/10], Step: [301/313], Validation Acc: 38.36\n",
      "Epoch: [2/10], Step: [101/313], Validation Acc: 37.96\n",
      "Epoch: [2/10], Step: [201/313], Validation Acc: 40.42\n",
      "Epoch: [2/10], Step: [301/313], Validation Acc: 40.94\n",
      "Epoch: [3/10], Step: [101/313], Validation Acc: 41.36\n",
      "Epoch: [3/10], Step: [201/313], Validation Acc: 40.72\n",
      "Epoch: [3/10], Step: [301/313], Validation Acc: 41.3\n",
      "Epoch: [4/10], Step: [101/313], Validation Acc: 39.7\n",
      "Epoch: [4/10], Step: [201/313], Validation Acc: 40.0\n",
      "Epoch: [4/10], Step: [301/313], Validation Acc: 41.3\n",
      "Epoch: [5/10], Step: [101/313], Validation Acc: 40.72\n",
      "Epoch: [5/10], Step: [201/313], Validation Acc: 39.34\n",
      "Epoch: [5/10], Step: [301/313], Validation Acc: 38.7\n",
      "Epoch: [6/10], Step: [101/313], Validation Acc: 37.62\n",
      "Epoch: [6/10], Step: [201/313], Validation Acc: 38.36\n",
      "Epoch: [6/10], Step: [301/313], Validation Acc: 38.48\n",
      "Epoch: [7/10], Step: [101/313], Validation Acc: 38.1\n",
      "Epoch: [7/10], Step: [201/313], Validation Acc: 36.84\n",
      "Epoch: [7/10], Step: [301/313], Validation Acc: 37.6\n",
      "Epoch: [8/10], Step: [101/313], Validation Acc: 37.42\n",
      "Epoch: [8/10], Step: [201/313], Validation Acc: 36.88\n",
      "Epoch: [8/10], Step: [301/313], Validation Acc: 37.76\n",
      "Epoch: [9/10], Step: [101/313], Validation Acc: 36.98\n",
      "Epoch: [9/10], Step: [201/313], Validation Acc: 36.78\n",
      "Epoch: [9/10], Step: [301/313], Validation Acc: 36.76\n",
      "Epoch: [10/10], Step: [101/313], Validation Acc: 35.36\n",
      "Epoch: [10/10], Step: [201/313], Validation Acc: 37.26\n",
      "Epoch: [10/10], Step: [301/313], Validation Acc: 36.98\n",
      "Time Elapsed: 185.17131805419922\n"
     ]
    }
   ],
   "source": [
    "t0 = time.time()\n",
    "scoreval_acc_epochs_Adam_L = []\n",
    "\n",
    "emb_dim = 100\n",
    "model = BagOfNGram(len(BOW_token2id_L),emb_dim)\n",
    "learning_rate = 0.01\n",
    "num_epochs = 10\n",
    "criterion = torch.nn.CrossEntropyLoss()\n",
    "optimizer = torch.optim.Adam(model.parameters(), lr=learning_rate)\n",
    "\n",
    "\n",
    "for epoch in range(num_epochs):\n",
    "    for i, (data, lengths, labels) in enumerate(mono_train_scoreloader_L):\n",
    "        model.train()\n",
    "        data_batch, length_batch, label_batch = data, lengths, labels\n",
    "        optimizer.zero_grad()\n",
    "        outputs = model(data_batch, length_batch)\n",
    "        loss = criterion(outputs, label_batch)\n",
    "        loss.backward()\n",
    "        optimizer.step()\n",
    "\n",
    "        if i > 0 and i % 100 == 0:\n",
    "            val_acc = test_model(mono_val_scoreloader_L, model)\n",
    "            scoreval_acc_epochs_Adam_L.append(val_acc)\n",
    "            print('Epoch: [{}/{}], Step: [{}/{}], Validation Acc: {}'.format(epoch+1, num_epochs, i+1, len(mono_train_scoreloader_L), val_acc))\n",
    "\n",
    "t1 = time.time()\n",
    "print('Time Elapsed: {}'.format(t1-t0))\n",
    "\n",
    "\n",
    "\n"
   ]
  },
  {
   "cell_type": "markdown",
   "metadata": {},
   "source": [
    "### Model XXVI"
   ]
  },
  {
   "cell_type": "code",
   "execution_count": 227,
   "metadata": {},
   "outputs": [],
   "source": [
    "class BagOfNGram_2(nn.Module):\n",
    "    def __init__(self, vocab_size, embedding_dim):\n",
    "        super(BagOfNGram_2, self).__init__()\n",
    "        self.embeddings = nn.Embedding(vocab_size, embedding_dim)\n",
    "        self.linear1 = nn.Linear(embedding_dim,128)\n",
    "        self.linear2 = nn.Linear(128,128)\n",
    "    \n",
    "    def forward(self, data, length):\n",
    "        out = self.embeddings(data)\n",
    "        out = torch.sum(out, dim=1)\n",
    "        out /= length.view(length.size()[0],1).expand_as(out).float()\n",
    "        out = F.relu(self.linear1(out.float()))\n",
    "        out = self.linear2(out.float())\n",
    "        return out"
   ]
  },
  {
   "cell_type": "code",
   "execution_count": 228,
   "metadata": {},
   "outputs": [
    {
     "name": "stdout",
     "output_type": "stream",
     "text": [
      "Epoch: [1/10], Step: [101/313], Validation Acc: 30.0\n",
      "Epoch: [1/10], Step: [201/313], Validation Acc: 36.18\n",
      "Epoch: [1/10], Step: [301/313], Validation Acc: 39.3\n",
      "Epoch: [2/10], Step: [101/313], Validation Acc: 38.54\n",
      "Epoch: [2/10], Step: [201/313], Validation Acc: 40.08\n",
      "Epoch: [2/10], Step: [301/313], Validation Acc: 38.28\n",
      "Epoch: [3/10], Step: [101/313], Validation Acc: 39.14\n",
      "Epoch: [3/10], Step: [201/313], Validation Acc: 38.14\n",
      "Epoch: [3/10], Step: [301/313], Validation Acc: 38.68\n",
      "Epoch: [4/10], Step: [101/313], Validation Acc: 37.86\n",
      "Epoch: [4/10], Step: [201/313], Validation Acc: 35.68\n",
      "Epoch: [4/10], Step: [301/313], Validation Acc: 37.9\n",
      "Epoch: [5/10], Step: [101/313], Validation Acc: 38.36\n",
      "Epoch: [5/10], Step: [201/313], Validation Acc: 37.3\n",
      "Epoch: [5/10], Step: [301/313], Validation Acc: 36.4\n",
      "Epoch: [6/10], Step: [101/313], Validation Acc: 36.12\n",
      "Epoch: [6/10], Step: [201/313], Validation Acc: 35.76\n",
      "Epoch: [6/10], Step: [301/313], Validation Acc: 35.94\n",
      "Epoch: [7/10], Step: [101/313], Validation Acc: 37.0\n",
      "Epoch: [7/10], Step: [201/313], Validation Acc: 34.98\n",
      "Epoch: [7/10], Step: [301/313], Validation Acc: 35.76\n",
      "Epoch: [8/10], Step: [101/313], Validation Acc: 33.46\n",
      "Epoch: [8/10], Step: [201/313], Validation Acc: 36.86\n",
      "Epoch: [8/10], Step: [301/313], Validation Acc: 35.86\n",
      "Epoch: [9/10], Step: [101/313], Validation Acc: 35.52\n",
      "Epoch: [9/10], Step: [201/313], Validation Acc: 36.94\n",
      "Epoch: [9/10], Step: [301/313], Validation Acc: 36.18\n",
      "Epoch: [10/10], Step: [101/313], Validation Acc: 35.92\n",
      "Epoch: [10/10], Step: [201/313], Validation Acc: 34.32\n",
      "Epoch: [10/10], Step: [301/313], Validation Acc: 34.96\n",
      "Time Elapsed: 249.40101504325867\n"
     ]
    }
   ],
   "source": [
    "t0 = time.time()\n",
    "scoreval_2_acc_epochs_Adam_L_200 = []\n",
    "\n",
    "emb_dim = 200\n",
    "model = BagOfNGram_2(len(BOW_token2id_L),emb_dim)\n",
    "learning_rate = 0.01\n",
    "num_epochs = 10\n",
    "criterion = torch.nn.CrossEntropyLoss()\n",
    "optimizer = torch.optim.Adam(model.parameters(), lr=learning_rate)\n",
    "\n",
    "\n",
    "for epoch in range(num_epochs):\n",
    "    for i, (data, lengths, labels) in enumerate(mono_train_scoreloader_L):\n",
    "        model.train()\n",
    "        data_batch, length_batch, label_batch = data, lengths, labels\n",
    "        optimizer.zero_grad()\n",
    "        outputs = model(data_batch, length_batch)\n",
    "        loss = criterion(outputs, label_batch)\n",
    "        loss.backward()\n",
    "        optimizer.step()\n",
    "\n",
    "        if i > 0 and i % 100 == 0:\n",
    "            val_acc = test_model(mono_val_scoreloader_L, model)\n",
    "            scoreval_2_acc_epochs_Adam_L_200.append(val_acc)\n",
    "            print('Epoch: [{}/{}], Step: [{}/{}], Validation Acc: {}'.format(epoch+1, num_epochs, i+1, len(mono_train_scoreloader_L), val_acc))\n",
    "\n",
    "t1 = time.time()\n",
    "print('Time Elapsed: {}'.format(t1-t0))\n",
    "\n",
    "\n",
    "\n",
    "\n",
    "\n"
   ]
  },
  {
   "cell_type": "markdown",
   "metadata": {},
   "source": [
    "### Model XXVII"
   ]
  },
  {
   "cell_type": "code",
   "execution_count": 229,
   "metadata": {},
   "outputs": [],
   "source": [
    "bi_train_scoredataset = aclImdbDataset(bi_train_data_indices, train_scoretarget)\n",
    "bi_train_scoreloader = torch.utils.data.DataLoader(dataset=bi_train_scoredataset, batch_size=BATCH_SIZE, collate_fn=collate_func,shuffle=True)\n",
    "\n",
    "bi_val_scoredataset = aclImdbDataset(bi_val_data_indices, val_scoretarget)\n",
    "bi_val_scoreloader = torch.utils.data.DataLoader(dataset=bi_val_scoredataset, batch_size=BATCH_SIZE, collate_fn=collate_func,shuffle=True)\n",
    "\n",
    "bi_test_scoredataset = aclImdbDataset(bi_test_data_indices, test_scoretarget)\n",
    "bi_test_scoreloader = torch.utils.data.DataLoader(dataset=bi_test_scoredataset, batch_size=BATCH_SIZE, collate_fn=collate_func,shuffle=True)"
   ]
  },
  {
   "cell_type": "code",
   "execution_count": 230,
   "metadata": {},
   "outputs": [
    {
     "name": "stdout",
     "output_type": "stream",
     "text": [
      "Epoch: [1/5], Step: [101/313], Validation Acc: 12.42\n",
      "Epoch: [1/5], Step: [201/313], Validation Acc: 22.84\n",
      "Epoch: [1/5], Step: [301/313], Validation Acc: 28.08\n",
      "Epoch: [2/5], Step: [101/313], Validation Acc: 31.84\n",
      "Epoch: [2/5], Step: [201/313], Validation Acc: 31.96\n",
      "Epoch: [2/5], Step: [301/313], Validation Acc: 33.36\n",
      "Epoch: [3/5], Step: [101/313], Validation Acc: 34.54\n",
      "Epoch: [3/5], Step: [201/313], Validation Acc: 35.5\n",
      "Epoch: [3/5], Step: [301/313], Validation Acc: 36.82\n",
      "Epoch: [4/5], Step: [101/313], Validation Acc: 36.42\n",
      "Epoch: [4/5], Step: [201/313], Validation Acc: 35.2\n",
      "Epoch: [4/5], Step: [301/313], Validation Acc: 34.32\n",
      "Epoch: [5/5], Step: [101/313], Validation Acc: 36.56\n",
      "Epoch: [5/5], Step: [201/313], Validation Acc: 34.06\n",
      "Epoch: [5/5], Step: [301/313], Validation Acc: 33.2\n"
     ]
    }
   ],
   "source": [
    "bigram_val_acc_epochs = []\n",
    "\n",
    "emb_dim = 200\n",
    "model = BagOfNGram(len(bigram_token2id),emb_dim)\n",
    "learning_rate = 0.01\n",
    "num_epochs = 5\n",
    "criterion = torch.nn.CrossEntropyLoss()\n",
    "optimizer = torch.optim.Adam(model.parameters(), lr=learning_rate)\n",
    "\n",
    "\n",
    "for epoch in range(num_epochs):\n",
    "    for i, (data, lengths, labels) in enumerate(bi_train_scoreloader):\n",
    "        model.train()\n",
    "        data_batch, length_batch, label_batch = data, lengths, labels\n",
    "        optimizer.zero_grad()\n",
    "        outputs = model(data_batch, length_batch)\n",
    "        loss = criterion(outputs, label_batch)\n",
    "        loss.backward()\n",
    "        optimizer.step()\n",
    "\n",
    "        if i > 0 and i % 100 == 0:\n",
    "            val_acc = test_model(bi_val_scoreloader, model)\n",
    "            bigram_val_acc_epochs.append(val_acc)\n",
    "            print('Epoch: [{}/{}], Step: [{}/{}], Validation Acc: {}'.format(epoch+1, num_epochs, i+1, len(bi_train_scoreloader), val_acc))\n",
    "\n",
    "                \n",
    "\n",
    "\n",
    "\n"
   ]
  },
  {
   "cell_type": "code",
   "execution_count": null,
   "metadata": {},
   "outputs": [],
   "source": []
  }
 ],
 "metadata": {
  "kernelspec": {
   "display_name": "Python 3",
   "language": "python",
   "name": "python3"
  },
  "language_info": {
   "codemirror_mode": {
    "name": "ipython",
    "version": 3
   },
   "file_extension": ".py",
   "mimetype": "text/x-python",
   "name": "python",
   "nbconvert_exporter": "python",
   "pygments_lexer": "ipython3",
   "version": "3.6.6"
  }
 },
 "nbformat": 4,
 "nbformat_minor": 2
}
